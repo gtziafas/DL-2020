{
 "cells": [
  {
   "cell_type": "markdown",
   "metadata": {},
   "source": [
    "# 🔥 Torch Intro 🔥\n",
    "#### Created by: Konstantinos Kogkalidis. Utrecht University, 2018\n",
    "\n",
    "## What is PyTorch?\n",
    "PyTorch (or just torch) is a python deep learning library, fresh out of beta but already widely adopted both in research and industry. Like most deep learning libraries it employs GPU accelaration; unlike most deep learning libraries, it supports dynamic computational graphs and deep python integration, enabling easy experimentation and code inspection. It provides high-level abstractions but also allows for low-level access to its primitives. You can read more about PyTorch at the official [site](https://pytorch.org/).\n",
    "\n",
    "## Installing PyTorch on your machine\n",
    "Install PyTorch by following the guidelines here [here](https://pytorch.org/get-started/locally/).\n",
    "\n",
    "<div class=\"alert alert-block alert-info\">\n",
    "<b>Note:</b> If you have an nVidia GPU, installing a CUDA version of PyTorch will allow you to utilize it, significantly speeding up computation.\n",
    "</div>\n",
    "\n",
    "# This Tutorial\n",
    "This tutorial will take you through PyTorch's main functionalities. It only aims to give you some insight on how to use PyTorch and is by no means a full tutorial on neural networks. Prior knowledge of neural netowrks and their inner workings (i.e. linear algebra, gradient-based optimization, back-propagation etc) will certainly prove useful. You are of course assumed to be familiar with python.\n",
    "\n",
    "# Table of Contents\n",
    "1. [Tensors](#1)\n",
    "    1. [Tensor Types](#1a)\n",
    "    2. [Instantiating Tensors](#1b)\n",
    "    3. [Basic Tensor Operations](#1c)\n",
    "    4. [Exercises](#1d)\n",
    "2. [Automatic Differentation](#2)\n",
    "    1. [Autograd](#2a)\n",
    "    2. [Exercises](#2b)\n",
    "3. [Neural Networks](#3)\n",
    "    1. [Custom Neural Networks](#3a)\n",
    "    2. [Loss Functions](#3b)\n",
    "    3. [Optimizers](#3c)\n",
    "    4. [Exercises](#3d)\n",
    "4. [Putting Everything Together](#4)\n",
    "\n",
    "\n",
    "For a more in-depth overview of PyTorch's capabilities, refer to the [official documentation](https://pytorch.org/docs/stable/index.html) (this link will prove handy for your assignments-- keep it close and use it often).\n",
    "\n",
    "---"
   ]
  },
  {
   "cell_type": "markdown",
   "metadata": {},
   "source": [
    "#### Getting started\n",
    "Let's verify your torch installation is working by trying to import it."
   ]
  },
  {
   "cell_type": "code",
   "execution_count": 1,
   "metadata": {},
   "outputs": [],
   "source": [
    "import torch"
   ]
  },
  {
   "cell_type": "markdown",
   "metadata": {},
   "source": [
    "<a id='1'></a>\n",
    "## 1. Tensors\n",
    "\n",
    "A [Tensor](https://pytorch.org/docs/stable/tensors.html) is the building block of any PyTorch program; it is the abstraction that stores n-ary arrays of numbers (i.e. tensors) and provides various functionalities for processing them. \n",
    "\n",
    "<a id='1a'></a>\n",
    "### A. Tensor Types\n",
    "\n",
    "There are 16 types of Tensors, distinguished by their `dtypes` (the sort of numbers stored within them) and the `device` they can be accessed by (either GPU or CPU).\n",
    "\n",
    "The different Tensor types and their corresponding classes are shown below:\n",
    "\n",
    "|  | dtype | CPU Tensor Class | GPU Tensor Class |\n",
    "| --- | --- | --- | --- |\n",
    "| Full precision float | `torch.float32` | `torch.FloatTensor` | `torch.cuda.FloatTensor`| \n",
    "| Half precision float | `torch.float16` | `torch.HalfTensor` | `torch.cuda.HalfTensor` |\n",
    "| Double precision float | `torch.float64` | `torch.DoubleTensor` | `torch.cuda.DoubleTensor` |\n",
    "| 8-bit unsigned integer | `torch.uint8` | `torch.ByteTensor` | `torch.cuda.ByteTensor` |\n",
    "| 8-bit signed integer | `torch.int8` | `torch.CharTensor` | `torch.CharTensor` |\n",
    "| 16-bit signed integer | `torch.int16` | `torch.ShortTensor` | `torch.cuda.ShortTensor` |\n",
    "| 32-bit signed integer | `torch.int32` | `torch.IntTensor` | `torch.cuda.IntTensor` |\n",
    "| 64-bit signed integer | `torch.int64` | `torch.LongTensor` | `torch.cuda.LongTensor` |\n",
    "\n",
    "<div class=\"alert alert-block alert-warning\">\n",
    "<b>Warning:</b>\n",
    "Interaction between Tensors of different devices or dtypes is not permitted (so make sure you are consistent). \n",
    "</div>\n",
    "\n",
    "We are mostly interested in full precision floats and long integers (on either device), so we can forget about the rest of them for now."
   ]
  },
  {
   "cell_type": "markdown",
   "metadata": {},
   "source": [
    "<a id='1b'></a>\n",
    "### B. Instantiating Tensors\n",
    "Tensors can be instantiated in a number of ways. When we want to construct a placeholder tensor of fixed dimensionality, we may simply call the appropriate class constructor."
   ]
  },
  {
   "cell_type": "code",
   "execution_count": 2,
   "metadata": {},
   "outputs": [],
   "source": [
    "my_first_long_tensor = torch.LongTensor(5)  # a vector of 5 longs\n",
    "my_first_float_tensor = torch.FloatTensor(5,5)  # a 5 by 5 matrix of floats"
   ]
  },
  {
   "cell_type": "markdown",
   "metadata": {},
   "source": [
    "Alternatively, we may use the abstract constructor `torch.tensor` and use the `dtype` and `device` arguments to specify its type (these default to torch.float and cpu, in the general case)."
   ]
  },
  {
   "cell_type": "code",
   "execution_count": 3,
   "metadata": {},
   "outputs": [],
   "source": [
    "my_second_long_tensor = torch.tensor(5, device='cpu', dtype=torch.long) # another vector of 5 longs\n",
    "my_second_float_tensor = torch.tensor((5, 5), device='cpu', dtype=torch.float)"
   ]
  },
  {
   "cell_type": "markdown",
   "metadata": {},
   "source": [
    "For the sake of convenience, we will now specify the device used by the rest of the tutorial. If you have the cuda version installed but would rather not use it, change the snippet below."
   ]
  },
  {
   "cell_type": "code",
   "execution_count": 4,
   "metadata": {},
   "outputs": [
    {
     "name": "stdout",
     "output_type": "stream",
     "text": [
      "Using cuda\n"
     ]
    }
   ],
   "source": [
    "if torch.cuda.is_available():\n",
    "    device = 'cuda'\n",
    "else:\n",
    "    device = 'cpu'\n",
    "\n",
    "print('Using {}'.format(device))"
   ]
  },
  {
   "cell_type": "markdown",
   "metadata": {},
   "source": [
    "There are a few useful short-hands for constructing tensors with commonly used values. Let's use some of them."
   ]
  },
  {
   "cell_type": "code",
   "execution_count": 5,
   "metadata": {},
   "outputs": [],
   "source": [
    "a = torch.zeros((2,3,4), device=device)  # a 2 by 3 by 4 tensor of zeroes\n",
    "b = torch.ones(42, device=device)  # a vector of 42 ones\n",
    "c = torch.eye(3, device=device)  # the 3 by 3 identity matrix\n",
    "d = torch.rand((32,10,300), device=device)  # a 32 by 10 by 300 tensor of randoms\n",
    "e = torch.randint(low=0, high=10, size=(3,3), device=device)  # a 3 by 3 matrix of random integers between 0 and 10\n",
    "f = torch.arange(10, device=device)  # a vector containing the numbers 0 to 9 in ascending order"
   ]
  },
  {
   "cell_type": "markdown",
   "metadata": {},
   "source": [
    "We can always query a tensor's contents, shape, dtype and device."
   ]
  },
  {
   "cell_type": "code",
   "execution_count": 6,
   "metadata": {},
   "outputs": [
    {
     "name": "stdout",
     "output_type": "stream",
     "text": [
      "torch.Size([2, 3, 4])\n",
      "cuda:0\n",
      "\n",
      "\n",
      "torch.Size([42])\n",
      "cuda:0\n",
      "\n",
      "\n",
      "torch.Size([3, 3])\n",
      "cuda:0\n",
      "\n",
      "\n",
      "torch.Size([32, 10, 300])\n",
      "cuda:0\n",
      "\n",
      "\n",
      "torch.Size([3, 3])\n",
      "cuda:0\n",
      "\n",
      "\n",
      "torch.Size([10])\n",
      "cuda:0\n",
      "\n",
      "\n"
     ]
    }
   ],
   "source": [
    "for te in [a, b, c, d, e, f]:\n",
    "    print(te.shape)\n",
    "    print(te.device)\n",
    "    # print(te)\n",
    "    print('\\n')"
   ]
  },
  {
   "cell_type": "markdown",
   "metadata": {},
   "source": [
    "We can also specify the values of a tensor by passing a list (of lists*) of values during its construction."
   ]
  },
  {
   "cell_type": "code",
   "execution_count": 7,
   "metadata": {},
   "outputs": [
    {
     "name": "stdout",
     "output_type": "stream",
     "text": [
      "tensor([[1, 2, 3],\n",
      "        [4, 5, 6],\n",
      "        [7, 8, 9]], device='cuda:0')\n",
      "torch.Size([3, 3])\n",
      "torch.int64\n"
     ]
    }
   ],
   "source": [
    "a = torch.tensor([[1,2,3], [4,5,6], [7,8,9]], device=device)\n",
    "print(a)\n",
    "print(a.shape)\n",
    "print(a.dtype)"
   ]
  },
  {
   "cell_type": "markdown",
   "metadata": {},
   "source": [
    "Notice that PyTorch automatically assumed that the tensor we specified should be of type long (because we only provided integers as the tensor's contents). We could of course avoid this by manually specifying the dtype. Alternatively, we can alter the dtype and/or device post-construction."
   ]
  },
  {
   "cell_type": "code",
   "execution_count": 8,
   "metadata": {},
   "outputs": [
    {
     "name": "stdout",
     "output_type": "stream",
     "text": [
      "torch.float32\n",
      "cpu\n"
     ]
    }
   ],
   "source": [
    "a = a.to(torch.float)\n",
    "print(a.dtype)\n",
    "a = a.to('cpu')  # or alternatively, a = a.cpu()\n",
    "print(a.device)"
   ]
  },
  {
   "cell_type": "markdown",
   "metadata": {},
   "source": [
    "Finally, a torch tensor can also be directy constructed by (or converted to) a numpy array. Converting to a numpy array only works for _cpu_ tensors."
   ]
  },
  {
   "cell_type": "code",
   "execution_count": 8,
   "metadata": {},
   "outputs": [
    {
     "name": "stdout",
     "output_type": "stream",
     "text": [
      "[[0.57244112 0.31438656]\n",
      " [0.67984384 0.99554466]]\n",
      "tensor([[0.5724, 0.3144],\n",
      "        [0.6798, 0.9955]], device='cuda:0', dtype=torch.float64)\n",
      "[[0.57244112 0.31438656]\n",
      " [0.67984384 0.99554466]]\n"
     ]
    }
   ],
   "source": [
    "import numpy as np\n",
    "a_np = np.random.random((2,2))\n",
    "a_torch = torch.tensor(a_np, device=device)\n",
    "print(a_np)\n",
    "print(a_torch)\n",
    "a_np_2 = a_torch.cpu().numpy()\n",
    "print(a_np_2)"
   ]
  },
  {
   "cell_type": "code",
   "execution_count": 9,
   "metadata": {},
   "outputs": [],
   "source": [
    "del a_np, a_torch, a_np_2, b, c, d, my_first_long_tensor, my_first_float_tensor, my_second_long_tensor, my_second_float_tensor, e, f"
   ]
  },
  {
   "cell_type": "markdown",
   "metadata": {},
   "source": [
    "<a id='1c'></a>\n",
    "### C. Basic Tensor Operations\n",
    "Tensors and their contents' are not hidden by the framework-- they are immediatelly accessible to us and we can interact with them in many ways, while being able to inspect the results of our actions. Let's walk through some of the most common usecases."
   ]
  },
  {
   "cell_type": "markdown",
   "metadata": {},
   "source": [
    "#### Indexing and Slicing\n",
    "Standard python indexing and slicing applies to torch tensors. Let's remember how that works-- first we will need a random matrix to experiment with."
   ]
  },
  {
   "cell_type": "code",
   "execution_count": 10,
   "metadata": {},
   "outputs": [
    {
     "name": "stdout",
     "output_type": "stream",
     "text": [
      "tensor([[0.4780, 0.6043, 0.1465],\n",
      "        [0.9668, 0.8193, 0.3704],\n",
      "        [0.0871, 0.4820, 0.8681],\n",
      "        [0.1132, 0.0136, 0.5427],\n",
      "        [0.1997, 0.4123, 0.7140]], device='cuda:0')\n"
     ]
    }
   ],
   "source": [
    "a = torch.rand((5,3), device=device)  \n",
    "print(a)"
   ]
  },
  {
   "cell_type": "markdown",
   "metadata": {},
   "source": [
    "<div class=\"alert alert-block alert-warning\">\n",
    "<b>Remember!</b>\n",
    "Indexing starts from zero\n",
    "</div>\n",
    "\n",
    "Now let's try retrieving the 3rd item of the 1st row."
   ]
  },
  {
   "cell_type": "code",
   "execution_count": 11,
   "metadata": {},
   "outputs": [
    {
     "name": "stdout",
     "output_type": "stream",
     "text": [
      "tensor(0.1465, device='cuda:0')\n"
     ]
    }
   ],
   "source": [
    "b = a[0][2]\n",
    "print(b)"
   ]
  },
  {
   "cell_type": "markdown",
   "metadata": {},
   "source": [
    "What if we wanted the first three rows of the matrix instead?"
   ]
  },
  {
   "cell_type": "code",
   "execution_count": 12,
   "metadata": {},
   "outputs": [
    {
     "name": "stdout",
     "output_type": "stream",
     "text": [
      "tensor([[0.4780, 0.6043, 0.1465],\n",
      "        [0.9668, 0.8193, 0.3704],\n",
      "        [0.0871, 0.4820, 0.8681]], device='cuda:0')\n"
     ]
    }
   ],
   "source": [
    "c = a[:3]\n",
    "print(c)"
   ]
  },
  {
   "cell_type": "markdown",
   "metadata": {},
   "source": [
    "Or its third column?"
   ]
  },
  {
   "cell_type": "code",
   "execution_count": 13,
   "metadata": {},
   "outputs": [
    {
     "name": "stdout",
     "output_type": "stream",
     "text": [
      "tensor([0.1465, 0.3704, 0.8681, 0.5427, 0.7140], device='cuda:0')\n"
     ]
    }
   ],
   "source": [
    "c = a[:, 2]\n",
    "print(c)"
   ]
  },
  {
   "cell_type": "markdown",
   "metadata": {},
   "source": [
    "Or every second element of the first column, starting from the second?"
   ]
  },
  {
   "cell_type": "code",
   "execution_count": 14,
   "metadata": {},
   "outputs": [
    {
     "name": "stdout",
     "output_type": "stream",
     "text": [
      "tensor([0.9668, 0.1132], device='cuda:0')\n"
     ]
    }
   ],
   "source": [
    "c = a[1::2, 0]\n",
    "print(c)"
   ]
  },
  {
   "cell_type": "markdown",
   "metadata": {},
   "source": [
    "But now in reverse, starting from the last?!"
   ]
  },
  {
   "cell_type": "code",
   "execution_count": 15,
   "metadata": {},
   "outputs": [
    {
     "ename": "ValueError",
     "evalue": "negative step not yet supported",
     "output_type": "error",
     "traceback": [
      "\u001b[0;31m---------------------------------------------------------------------------\u001b[0m",
      "\u001b[0;31mValueError\u001b[0m                                Traceback (most recent call last)",
      "\u001b[0;32m<ipython-input-15-750cb89b0dfc>\u001b[0m in \u001b[0;36m<module>\u001b[0;34m\u001b[0m\n\u001b[0;32m----> 1\u001b[0;31m \u001b[0mc\u001b[0m \u001b[0;34m=\u001b[0m \u001b[0ma\u001b[0m\u001b[0;34m[\u001b[0m\u001b[0;34m-\u001b[0m\u001b[0;36m1\u001b[0m\u001b[0;34m:\u001b[0m\u001b[0;34m:\u001b[0m\u001b[0;34m-\u001b[0m\u001b[0;36m2\u001b[0m\u001b[0;34m,\u001b[0m \u001b[0;36m0\u001b[0m\u001b[0;34m]\u001b[0m\u001b[0;34m\u001b[0m\u001b[0;34m\u001b[0m\u001b[0m\n\u001b[0m\u001b[1;32m      2\u001b[0m \u001b[0mprint\u001b[0m\u001b[0;34m(\u001b[0m\u001b[0mc\u001b[0m\u001b[0;34m)\u001b[0m\u001b[0;34m\u001b[0m\u001b[0;34m\u001b[0m\u001b[0m\n",
      "\u001b[0;31mValueError\u001b[0m: negative step not yet supported"
     ]
    }
   ],
   "source": [
    "c = a[-1::-2, 0]\n",
    "print(c)"
   ]
  },
  {
   "cell_type": "markdown",
   "metadata": {},
   "source": [
    "Well, perhaps not.."
   ]
  },
  {
   "cell_type": "markdown",
   "metadata": {},
   "source": [
    "#### Value Assignment\n",
    "We can use the exact same scheme to assign values to tensors."
   ]
  },
  {
   "cell_type": "code",
   "execution_count": 16,
   "metadata": {},
   "outputs": [
    {
     "name": "stdout",
     "output_type": "stream",
     "text": [
      "tensor([[0.0000, 0.6043, 0.1465],\n",
      "        [0.9668, 0.8193, 0.3704],\n",
      "        [0.0871, 0.4820, 0.8681],\n",
      "        [0.1132, 0.0136, 0.5427],\n",
      "        [0.1997, 0.4123, 0.7140]], device='cuda:0')\n",
      "tensor([[0.7888, 0.4399, 0.1567],\n",
      "        [0.1662, 0.3045, 0.2391],\n",
      "        [0.6932, 0.1355, 0.2093],\n",
      "        [0.6736, 0.2933, 0.9352],\n",
      "        [0.0143, 0.0255, 0.8090]], device='cuda:0')\n",
      "tensor([[0.0000, 0.6043, 0.1465],\n",
      "        [0.6932, 0.1355, 0.2093],\n",
      "        [0.0871, 0.4820, 0.8681],\n",
      "        [0.1132, 0.0136, 0.5427],\n",
      "        [0.1997, 0.4123, 0.7140]], device='cuda:0')\n"
     ]
    }
   ],
   "source": [
    "# Set the top left item of the matrix to zero.\n",
    "a[0,0] = 0\n",
    "print(a)\n",
    "\n",
    "# Construct another random matrix of the same shape\n",
    "b = torch.rand_like(a, device=device)\n",
    "print(b)\n",
    "\n",
    "# Set the second row of matrix a to be the third row of matrix b\n",
    "a[1] = b[2]\n",
    "print(a)"
   ]
  },
  {
   "cell_type": "markdown",
   "metadata": {},
   "source": [
    "#### Element-wise Arithmetic\n",
    "Element-wise operations (most importantly comparison, addition, subtraction, multiplication and division) can be applied on tensors of compatible shapes (i.e. shapes that can be [broadcasted](https://pytorch.org/docs/stable/notes/broadcasting.html)). \n",
    "\n",
    "Two tensors are compatible if any of the two below conditions hold:\n",
    "* their shapes are the same \n",
    "* their trailing (i.e. last) N dimensions are the same (possibly excluding missing dimensions and dimensions of size 1)\n",
    "\n",
    "Scalars (single values) are compatible with tensors of any shape. Let's see some examples."
   ]
  },
  {
   "cell_type": "markdown",
   "metadata": {},
   "source": [
    "First, some fresh tensors."
   ]
  },
  {
   "cell_type": "code",
   "execution_count": 17,
   "metadata": {},
   "outputs": [],
   "source": [
    "a = torch.zeros((2, 3, 4), device=device)  \n",
    "b = torch.ones((2, 3, 4), device=device)  \n",
    "c = torch.ones((3, 4), device=device)  \n",
    "d = torch.ones((2, 3, 1), device=device)\n",
    "e = torch.rand((4, 3, 2), device=device)"
   ]
  },
  {
   "cell_type": "markdown",
   "metadata": {},
   "source": [
    "We can add a scalar to tensor a "
   ]
  },
  {
   "cell_type": "code",
   "execution_count": 18,
   "metadata": {},
   "outputs": [
    {
     "name": "stdout",
     "output_type": "stream",
     "text": [
      "torch.Size([2, 3, 4])\n"
     ]
    }
   ],
   "source": [
    "a = a + 0.3\n",
    "print(a.shape)"
   ]
  },
  {
   "cell_type": "markdown",
   "metadata": {},
   "source": [
    "We can subtract b from a  (matching shapes)"
   ]
  },
  {
   "cell_type": "code",
   "execution_count": 19,
   "metadata": {},
   "outputs": [
    {
     "name": "stdout",
     "output_type": "stream",
     "text": [
      "torch.Size([2, 3, 4])\n"
     ]
    }
   ],
   "source": [
    "f = a - b\n",
    "print(f.shape)"
   ]
  },
  {
   "cell_type": "markdown",
   "metadata": {},
   "source": [
    "We can elementwise multiply a with c  (dimensions of c are the same as last dimensions of a)"
   ]
  },
  {
   "cell_type": "code",
   "execution_count": 20,
   "metadata": {},
   "outputs": [
    {
     "name": "stdout",
     "output_type": "stream",
     "text": [
      "torch.Size([2, 3, 4])\n"
     ]
    }
   ],
   "source": [
    "g =  a * c\n",
    "print(g.shape)"
   ]
  },
  {
   "cell_type": "markdown",
   "metadata": {},
   "source": [
    "We can elementwise divide a by d  (last dimension is 1, the rest of the dimensions match)"
   ]
  },
  {
   "cell_type": "code",
   "execution_count": 21,
   "metadata": {},
   "outputs": [
    {
     "name": "stdout",
     "output_type": "stream",
     "text": [
      "torch.Size([2, 3, 4])\n"
     ]
    }
   ],
   "source": [
    "h = a / d\n",
    "print(h.shape)"
   ]
  },
  {
   "cell_type": "markdown",
   "metadata": {},
   "source": [
    "We can elementwise raise a to d  (last dimension of d is 1, the rest of the dimensions match)"
   ]
  },
  {
   "cell_type": "code",
   "execution_count": 22,
   "metadata": {},
   "outputs": [
    {
     "name": "stdout",
     "output_type": "stream",
     "text": [
      "torch.Size([2, 3, 4])\n"
     ]
    }
   ],
   "source": [
    "i = a**d\n",
    "print(i.shape)"
   ]
  },
  {
   "cell_type": "markdown",
   "metadata": {},
   "source": [
    "And we can compare a with any of f, g, h"
   ]
  },
  {
   "cell_type": "code",
   "execution_count": 23,
   "metadata": {},
   "outputs": [
    {
     "name": "stdout",
     "output_type": "stream",
     "text": [
      "torch.Size([2, 3, 4])\n"
     ]
    }
   ],
   "source": [
    "j = a == f\n",
    "print(j.shape)"
   ]
  },
  {
   "cell_type": "markdown",
   "metadata": {},
   "source": [
    ".. but torch complains when we try to do that with e (shapes are incompatible)"
   ]
  },
  {
   "cell_type": "code",
   "execution_count": 24,
   "metadata": {},
   "outputs": [
    {
     "ename": "RuntimeError",
     "evalue": "The size of tensor a (2) must match the size of tensor b (4) at non-singleton dimension 2",
     "output_type": "error",
     "traceback": [
      "\u001b[0;31m---------------------------------------------------------------------------\u001b[0m",
      "\u001b[0;31mRuntimeError\u001b[0m                              Traceback (most recent call last)",
      "\u001b[0;32m<ipython-input-24-a2c3e750b318>\u001b[0m in \u001b[0;36m<module>\u001b[0;34m\u001b[0m\n\u001b[0;32m----> 1\u001b[0;31m \u001b[0me\u001b[0m \u001b[0;34m==\u001b[0m \u001b[0ma\u001b[0m\u001b[0;34m\u001b[0m\u001b[0;34m\u001b[0m\u001b[0m\n\u001b[0m",
      "\u001b[0;31mRuntimeError\u001b[0m: The size of tensor a (2) must match the size of tensor b (4) at non-singleton dimension 2"
     ]
    }
   ],
   "source": [
    "e == a"
   ]
  },
  {
   "cell_type": "code",
   "execution_count": 25,
   "metadata": {},
   "outputs": [],
   "source": [
    "del a, b, c, d, e, f, g, h, i, j"
   ]
  },
  {
   "cell_type": "markdown",
   "metadata": {},
   "source": [
    "If in doubt for what any of the element-wise operators actually do, try them out below on some tensors of your own making."
   ]
  },
  {
   "cell_type": "code",
   "execution_count": null,
   "metadata": {},
   "outputs": [],
   "source": []
  },
  {
   "cell_type": "markdown",
   "metadata": {},
   "source": [
    "#### Linear Algebra\n",
    "Tensor algebra of course goes well beyond elementwise operations- matrix multiplication is the bread and butter of machine learning, so we better get familiar with how torch does it."
   ]
  },
  {
   "cell_type": "markdown",
   "metadata": {},
   "source": [
    "As usual, we begin by instantiating our matrices. Matrix multiplication is defined between matrices A and B of shapes [M, N] and [N, O] respectively and yields a matrix C of shape [M, O]. The torch function that implements matrix multiplication is `torch.mm`."
   ]
  },
  {
   "cell_type": "code",
   "execution_count": 26,
   "metadata": {},
   "outputs": [
    {
     "name": "stdout",
     "output_type": "stream",
     "text": [
      "torch.Size([5, 8])\n"
     ]
    }
   ],
   "source": [
    "A = torch.rand([5,3], device=device)\n",
    "B = torch.rand([3,8], device=device)\n",
    "C = torch.mm(A, B)  # or alternatively, C = A @ B\n",
    "print(C.shape)"
   ]
  },
  {
   "cell_type": "markdown",
   "metadata": {},
   "source": [
    "What if we had a large numbers (i.e. a batch) of matrices A to each be multiplied with a matching B? We can use `torch.bmm` for efficient batch matrix multiplication.\n",
    "\n",
    "<div class=\"alert alert-block alert-info\">\n",
    "<b>Tip:</b> Rather than writing slow and ugly `for` loops, employ array programming to write your machine learning code. This will make it much more concise and dramatically more efficient.\n",
    "</div>"
   ]
  },
  {
   "cell_type": "code",
   "execution_count": null,
   "metadata": {},
   "outputs": [],
   "source": [
    "bA = torch.rand([128, 5, 3], device=device)\n",
    "bB = torch.rand([128, 3, 8], device=device)\n",
    "bC = torch.bmm(bA, bB)  # bC = bA @ bC also works here!\n",
    "print(bC.shape)"
   ]
  },
  {
   "cell_type": "markdown",
   "metadata": {},
   "source": [
    "<div class=\"alert alert-block alert-warning\">\n",
    "<b>Warning:</b>\n",
    "Be careful not to confuse matrix multiplication `A@B` with the [Hadamard product](https://en.wikipedia.org/wiki/Hadamard_product_%28matrices%29) `A*B`\n",
    "\n",
    "</div>"
   ]
  },
  {
   "cell_type": "markdown",
   "metadata": {},
   "source": [
    "#### Shape Manipulation\n",
    "As we have seen, what we can do with tensors is largely dictated by their shapes. Adjusting a tensor's shape to allow for broadcasting or batching is therefore often necessary. The following functions should suffice for the bulk of shape manipulation tasks you might encounter."
   ]
  },
  {
   "cell_type": "markdown",
   "metadata": {},
   "source": [
    "Tensor tansposition is the generalization of matrix transposition. Since there are now more than 2 dimensions, we additionally need to specify the transposed dimensions. Take for instance a tensor of shape [M, N, O]. Converting it to a tensor of shape [N, M, O] requires transposing the first and second dimensions."
   ]
  },
  {
   "cell_type": "code",
   "execution_count": null,
   "metadata": {},
   "outputs": [],
   "source": [
    "A = torch.rand([128, 5, 3], device=device)\n",
    "A = A.transpose(0, 1)\n",
    "print(A.shape)"
   ]
  },
  {
   "cell_type": "markdown",
   "metadata": {},
   "source": [
    "We may also choose to create a reshaped view of a tensor; for instance we may collapse two or more tensor dimensions into one.."
   ]
  },
  {
   "cell_type": "code",
   "execution_count": null,
   "metadata": {},
   "outputs": [],
   "source": [
    "A = torch.rand([128, 5, 3], device=device)\n",
    "A_collapsed = A.view(A.shape[0]*A.shape[1], A.shape[-1])\n",
    "print(A_collapsed.shape)"
   ]
  },
  {
   "cell_type": "markdown",
   "metadata": {},
   "source": [
    ".. or expand one dimension into two or more"
   ]
  },
  {
   "cell_type": "code",
   "execution_count": null,
   "metadata": {},
   "outputs": [],
   "source": [
    "A_expanded = A_collapsed.view(128, 5, 3)\n",
    "print(A_expanded.shape)"
   ]
  },
  {
   "cell_type": "markdown",
   "metadata": {},
   "source": [
    "Let's convince ourselves that the back and forth between dimensions has left our tensor unaffected. First let's elementwise compare A with A_expanded."
   ]
  },
  {
   "cell_type": "code",
   "execution_count": null,
   "metadata": {},
   "outputs": [],
   "source": [
    "comp = A == A_expanded\n",
    "print(comp)"
   ]
  },
  {
   "cell_type": "markdown",
   "metadata": {},
   "source": [
    "It seems to be okay! But what if there is a zero somewhere in there? Python's `all` and `any` may be used directly on torch bools to help us here."
   ]
  },
  {
   "cell_type": "code",
   "execution_count": null,
   "metadata": {},
   "outputs": [],
   "source": [
    "print(all([all(row) for matrix in comp for row in matrix]))"
   ]
  },
  {
   "cell_type": "markdown",
   "metadata": {},
   "source": [
    "Views are useful, but as the name suggests they only change our view of a tensor. Different views of a tensor have the same number of elements; the view is just changing in what order these are read.\n",
    "\n",
    "For cases where we would like to repeat a tensor across one or more of its axes (actually creating a larger tensor), we can use the function of the same name. Let's consider a tensor of shape [M, N] which we would like to turn into a tensor that repeats itself K times across the first dimension (i.e. a tensor of shape [K $\\cdot$ M, N]."
   ]
  },
  {
   "cell_type": "code",
   "execution_count": null,
   "metadata": {},
   "outputs": [],
   "source": [
    "A = torch.rand([5, 12], device=device)\n",
    "A_repeat = A.repeat(3, 1)  # note that we are specifying the number of repeats per dimension\n",
    "print(A_repeat.shape)"
   ]
  },
  {
   "cell_type": "markdown",
   "metadata": {},
   "source": [
    "#### Combining Tensors\n",
    "Sometimes we may want to construct a big tensor out of two small ones. There's a few ways to accomplish that, but the most reliable one is through `torch.cat` 🐈 (shorthand for concatenate).\n",
    "\n",
    "Two tensors may be concatenated if they agree on all their dimensions, except for the concatenation dimension."
   ]
  },
  {
   "cell_type": "code",
   "execution_count": null,
   "metadata": {},
   "outputs": [],
   "source": [
    "A = torch.rand([4,2], device=device)\n",
    "B = torch.rand([1,2], device=device)\n",
    "C = torch.cat((A, B), dim=0)\n",
    "print(C.shape)"
   ]
  },
  {
   "cell_type": "code",
   "execution_count": null,
   "metadata": {},
   "outputs": [],
   "source": [
    "del A, B, C, comp, A_repeat, A_expanded, A_collapsed, bA, bB, bC"
   ]
  },
  {
   "cell_type": "markdown",
   "metadata": {},
   "source": [
    "---"
   ]
  },
  {
   "cell_type": "markdown",
   "metadata": {},
   "source": [
    "<a id='1d'></a>\n",
    "### Exercises\n",
    "It might be a good idea to take a short break here and recap on what we've seen before moving further. The mini-exercises below should help you test your grasp of this section."
   ]
  },
  {
   "cell_type": "markdown",
   "metadata": {},
   "source": [
    "Construct a tensor $A$ of shape [10, 10] containing random floats, and a tensor $B$ of the same shape where all its elements are equal to $\\pi$."
   ]
  },
  {
   "cell_type": "code",
   "execution_count": null,
   "metadata": {},
   "outputs": [],
   "source": [
    "A = torch.rand((10, 10), device=device)\n",
    "B = torch.ones_like(A) * 3.1415"
   ]
  },
  {
   "cell_type": "markdown",
   "metadata": {},
   "source": [
    "Compute $C = AB^T$, the matrix multiplication of $A$ with the transpose of $B$ and $D = A\\cdot B$, their elementwise multiplication."
   ]
  },
  {
   "cell_type": "code",
   "execution_count": null,
   "metadata": {},
   "outputs": [],
   "source": [
    "C = A@B.transpose(1,0)\n",
    "D = A*B"
   ]
  },
  {
   "cell_type": "markdown",
   "metadata": {},
   "source": [
    "Try comparing $C$ with $D$. Are they comparable? Are they equal? What is the dtype of their comparison?"
   ]
  },
  {
   "cell_type": "code",
   "execution_count": null,
   "metadata": {},
   "outputs": [],
   "source": [
    "comp = C == D\n",
    "print(comp.dtype)"
   ]
  },
  {
   "cell_type": "markdown",
   "metadata": {},
   "source": [
    "Multiply $A$ by 4 to create $F$. Now set all elements of $F$ that are above $\\pi$ to zero.\n",
    "\n",
    "\n",
    "_Hint 1_: You can index a tensor with a boolean tensor of the same dimensionality\n",
    "\n",
    "_Hint 2_: You can set multiple indexed elements to a single value at once"
   ]
  },
  {
   "cell_type": "code",
   "execution_count": null,
   "metadata": {},
   "outputs": [],
   "source": [
    "F = 4 * A\n",
    "F[F > 3.1415] = 0"
   ]
  },
  {
   "cell_type": "markdown",
   "metadata": {},
   "source": [
    "The incomplete function below implements matrix multiplication with a for loop. Complete the function and call it with your $A$ and $B^T$ matrices as its arguments. The result should be the same as the matrix $C$ you computed before (with room for some numerical inaccuraccy)\n",
    "\n",
    "Note: You can use `torch.sum()` to compute the sum of a tensor (optionally specifying across which dimension)\n",
    "\n",
    "<div class=\"alert alert-block alert-info\">\n",
    "<b>Note:</b> [Type Hints](https://www.python.org/dev/peps/pep-0484/#rationale-and-goals) may be used in python function and variable declarations to give them a type signature. These type signatures are not strict (you can still bypass them), but they can help you organize your code. Type hints of incomplete functions given during assignments will inform you of what we expect your function to accept and return.\n",
    "</div>"
   ]
  },
  {
   "cell_type": "code",
   "execution_count": null,
   "metadata": {},
   "outputs": [],
   "source": [
    "def my_mm(A: torch.FloatTensor, B: torch.FloatTensor) -> torch.FloatTensor:\n",
    "    assert A.shape[1] == B.shape[0]\n",
    "    assert (len(A.shape) == len(B.shape) == 2)\n",
    "    C = torch.zeros((A.shape[0], B.shape[1]), device=device)\n",
    "    for i in range(A.shape[0]):\n",
    "        for j in range(B.shape[1]):\n",
    "            C[i, j] = torch.sum(A[i] * B[:, j])\n",
    "    return C\n",
    "    \n",
    "E = my_mm(A, B.transpose(1,0))\n",
    "\n",
    "# make sure the mean absolute difference between the two results is below 0.0001\n",
    "assert torch.sum(torch.abs(E - C))/(E.shape[0]*E.shape[1]) < 1e-4 "
   ]
  },
  {
   "cell_type": "markdown",
   "metadata": {},
   "source": [
    "Create a 2-dimensional tensor $S$ that consists by an instance of $A$ followed by two instances of $B$ followed by an instance of $A$ across its first dimension. What is the shape of $S$?"
   ]
  },
  {
   "cell_type": "code",
   "execution_count": null,
   "metadata": {},
   "outputs": [],
   "source": [
    "S = torch.cat([A, B, B, A], dim=0)\n",
    "print(S.shape)"
   ]
  },
  {
   "cell_type": "markdown",
   "metadata": {},
   "source": [
    "Reshape $S$ into a tensor of shape [20, 2, 10]. \n",
    "Then transpose this into a tensor of shape [2, 10, 20]."
   ]
  },
  {
   "cell_type": "code",
   "execution_count": null,
   "metadata": {},
   "outputs": [],
   "source": [
    "S = S.view(20, 2, 10)\n",
    "S = S.permute(1, 2, 0)\n",
    "print(S.shape)"
   ]
  },
  {
   "cell_type": "code",
   "execution_count": null,
   "metadata": {},
   "outputs": [],
   "source": [
    "del A, B, C, D, E, F, S"
   ]
  },
  {
   "cell_type": "markdown",
   "metadata": {},
   "source": [
    "---"
   ]
  },
  {
   "cell_type": "markdown",
   "metadata": {},
   "source": [
    "<a id='2'></a>\n",
    "## 2. Automatic Differentation and Neural Networks\n",
    "We have so far seen some of torch's computational capabilities; its GPU accelaration and multitude of high level functions make it suitable for array processing and vector arithmetic. But torch is more than a faster numpy; its key components, and where most of the magic happens, are in its automatic differentiation mechanics and neural network libraries.\n",
    "\n",
    "<a id='2a'></a>\n",
    "### A. Autograd\n",
    "Each torch tensor carries a flag around with it, `requires_grad`, which establishes whether that tensor requires gradient computation. \n",
    "\n",
    "By default, tensors do not require grad unless specified to. Whenever a tensor that requires grad assumes a role in the construction of another tensor, the new tensor also requires grad.\n",
    "By dynamically tracking dependencies in the evolving computation graph, and utilizing this flag, torch is able to inform itself on which tensors need to be updated by gradient descent, and which do not (naturally, only tensors for which gradients are computed will be updated).\n",
    "\n",
    "Practically, by setting `requires_grad` to `False` we can _freeze_ (parts of) our functions, making them static.\n",
    "\n",
    "Let's see this in action by modeling a simple linear transformation $f(x): Ax$ from $x \\in \\mathbb{R}^5$  to $y \\in \\mathbb{R}^7$:\n",
    "\n",
    "<div class=\"alert alert-block alert-info\">\n",
    "<b>Note:</b> Recall that a matrix of shape [M, N] is a linear map __from__ $\\mathbb{R}^N$ __to__ $\\mathbb{R}^M$.\n",
    "</div>"
   ]
  },
  {
   "cell_type": "code",
   "execution_count": 27,
   "metadata": {},
   "outputs": [],
   "source": [
    "A = torch.rand((7, 5), device=device) \n",
    "\n",
    "def f(x: torch.FloatTensor) -> torch.FloatTensor:\n",
    "    return A@x "
   ]
  },
  {
   "cell_type": "markdown",
   "metadata": {},
   "source": [
    "Let's test our function for some $x$, and check whether the result requires grad."
   ]
  },
  {
   "cell_type": "code",
   "execution_count": 28,
   "metadata": {},
   "outputs": [
    {
     "name": "stdout",
     "output_type": "stream",
     "text": [
      "tensor([1.0936, 1.5336, 1.3136, 0.8914, 0.8699, 1.6348, 1.6490],\n",
      "       device='cuda:0')\n",
      "False\n"
     ]
    }
   ],
   "source": [
    "x = torch.rand(5, device=device)\n",
    "y = f(x)\n",
    "print(y)\n",
    "print(y.requires_grad)"
   ]
  },
  {
   "cell_type": "markdown",
   "metadata": {},
   "source": [
    "It does not; what if the parameters of our function $f$ were trainable though?"
   ]
  },
  {
   "cell_type": "code",
   "execution_count": 29,
   "metadata": {},
   "outputs": [
    {
     "name": "stdout",
     "output_type": "stream",
     "text": [
      "True\n"
     ]
    }
   ],
   "source": [
    "A.requires_grad = True\n",
    "y = f(x)\n",
    "print(y.requires_grad)"
   ]
  },
  {
   "cell_type": "markdown",
   "metadata": {},
   "source": [
    "The output of our linear transformation is now also trainable!\n"
   ]
  },
  {
   "cell_type": "markdown",
   "metadata": {},
   "source": [
    "---"
   ]
  },
  {
   "cell_type": "markdown",
   "metadata": {},
   "source": [
    "<a id='2b'></a>\n",
    "### Exercises\n",
    "Answer the next questions before you proceed."
   ]
  },
  {
   "cell_type": "markdown",
   "metadata": {},
   "source": [
    "Model an affine transformation $g(x) = Ax + \\beta$ from $x \\in \\mathbb{R}^3$ to $y \\in \\mathbb{R}^{12}$ as the composition of two functions, $f_1(x) = Ax$, $f_2(x) = x + \\beta$, such that $A$ requires grad but $\\beta$ does not.\n",
    "\n",
    "<div class=\"alert alert-block alert-info\">\n",
    "<b>Note:</b> You can use `requires_grad: bool` as an optional argument during tensor construction. Can you guess its default value?\n",
    "</div>"
   ]
  },
  {
   "cell_type": "code",
   "execution_count": 31,
   "metadata": {},
   "outputs": [],
   "source": [
    "A = torch.rand((12, 3), requires_grad=True, device=device)\n",
    "beta = torch.rand((12, 1), requires_grad=False, device=device)\n",
    "\n",
    "def f_1(x: torch.FloatTensor) -> torch.FloatTensor:\n",
    "    return A@x\n",
    "\n",
    "def f_2(x: torch.FloatTensor) -> torch.FloatTensor:\n",
    "    return x + beta\n",
    "\n",
    "x = torch.rand(3, device=device)\n",
    "\n",
    "w = f_1(x)\n",
    "y = f_2(w)"
   ]
  },
  {
   "cell_type": "markdown",
   "metadata": {},
   "source": [
    "Try to figure out the answers on your own before checking the code.\n",
    "\n",
    "Let's assume $x$ is a fixed data sample, therefore does not require grad (we don't usually want to fit our data, but the function applied on the data!)\n",
    "\n",
    "* If $A$ requires grad but $\\beta$ doesn't, does $w$ require grad? Does $y$?\n",
    "\n",
    "* If $\\beta$ requires grad but $A$ doesn't, does $w$ require grad? Does $y$?\n",
    "\n",
    "What would that mean for $A$ and $\\beta$ during gradient descent?\n",
    "\n",
    "Verify your answers with code."
   ]
  },
  {
   "cell_type": "code",
   "execution_count": 33,
   "metadata": {},
   "outputs": [
    {
     "name": "stdout",
     "output_type": "stream",
     "text": [
      "True True\n"
     ]
    }
   ],
   "source": [
    "print(w.requires_grad, y.requires_grad)"
   ]
  },
  {
   "cell_type": "code",
   "execution_count": 34,
   "metadata": {},
   "outputs": [
    {
     "name": "stdout",
     "output_type": "stream",
     "text": [
      "False True\n"
     ]
    }
   ],
   "source": [
    "A.requires_grad = False\n",
    "beta.requires_grad = True \n",
    "\n",
    "w = f_1(x)\n",
    "y = f_2(x)\n",
    "\n",
    "print(w.requires_grad, y.requires_grad)"
   ]
  },
  {
   "cell_type": "code",
   "execution_count": null,
   "metadata": {},
   "outputs": [],
   "source": [
    "del A, beta, x, y, w, f, f_1, f_2"
   ]
  },
  {
   "cell_type": "markdown",
   "metadata": {},
   "source": [
    "---"
   ]
  },
  {
   "cell_type": "markdown",
   "metadata": {},
   "source": [
    "<a id='3'></a>\n",
    "\n",
    "## 3. Neural Networks\n",
    "We are very close to defining our first neural network in torch. Torch includes a powerful neural network library, `torch.nn`, which allows us to create our own custom network flows, use highly optimized off-the-shelf implementations of most standard kinds of networks and compose different networks together.\n",
    "\n",
    "<a id='3a'></a>\n",
    "### A. Custom Neural Networks\n",
    "You have already implemented an affine transformation; a shallow feedforward network is simply such a transformation followed by a non-linearity. For the sake of familiarizing ourselves with custom torch networks, we will go through the process of defining such a network from scratch (you won't normally be doing this, but it's still beneficial to have an idea of what's happening at the low level before proceeding to the high level).\n",
    "\n",
    "The building block for a torch network is the `torch.nn.Module` class; we need to define our networks as objects inheriting that class. If we do so, we only need to implement two functions: `__init__()` and `forward()`. The first is responsible for registering the internal variables of our network, while the second specifies the kind of computation it actually performs.\n",
    "\n",
    "Let's see these in practice; we will define a shallow feedforward network implementing $f(x) = \\sigma(Wx + \\beta)$ from any input dimension to any output dimension, where $\\sigma$ the sigmoid activation."
   ]
  },
  {
   "cell_type": "code",
   "execution_count": 35,
   "metadata": {},
   "outputs": [],
   "source": [
    "class my_first_network(torch.nn.Module):\n",
    "    def __init__(self, in_features: int, out_features: int, device: str) -> None:\n",
    "        super(my_first_network, self).__init__()  # this is important! do not forget to call this\n",
    "        self.device = device\n",
    "        self.W = torch.nn.Parameter(torch.rand(out_features, in_features, device=self.device))\n",
    "        self.beta = torch.nn.Parameter(torch.rand(out_features, device=self.device))\n",
    "        \n",
    "    def forward(self, x: torch.FloatTensor) -> torch.FloatTensor:\n",
    "        return torch.sigmoid(self.W@x + self.beta)"
   ]
  },
  {
   "cell_type": "markdown",
   "metadata": {},
   "source": [
    "<div class=\"alert alert-block alert-info\">\n",
    "<b>Note:</b> Notice the use of torch.nn.Parameter. Wrapping the tensors that are parametric to our network's function in torch.nn.Parameter is crucial as it informs torch that these tensors need to be stored, updated and shared between different function calls.\n",
    "</div>"
   ]
  },
  {
   "cell_type": "markdown",
   "metadata": {},
   "source": [
    "We can now test our first network class by instatiating an actual network and passing a random tensor through it."
   ]
  },
  {
   "cell_type": "code",
   "execution_count": 36,
   "metadata": {},
   "outputs": [
    {
     "name": "stdout",
     "output_type": "stream",
     "text": [
      "tensor([0.7061, 0.8057, 0.7690, 0.7248, 0.6895, 0.7225, 0.8737, 0.7760, 0.8705,\n",
      "        0.5962, 0.7534, 0.5929], device='cuda:0', grad_fn=<SigmoidBackward>)\n"
     ]
    }
   ],
   "source": [
    "f = my_first_network(in_features=3, out_features=12, device=device)\n",
    "x = torch.rand(3, device=device)\n",
    "y = f(x)\n",
    "print(y)"
   ]
  },
  {
   "cell_type": "markdown",
   "metadata": {},
   "source": [
    "<div class=\"alert alert-block alert-info\">\n",
    "<b>Note:</b> Notice that we can use `f(x)` instead of `f.forward(x)` -- `forward` overloads the `__call__` method of the `torch.nn.Module` class, so the above statements are equivalent.\n",
    "</div>"
   ]
  },
  {
   "cell_type": "markdown",
   "metadata": {},
   "source": [
    "Since we have the abstraction for one layer, what's stopping us from instantiating a second network and composing the two into a deep network?"
   ]
  },
  {
   "cell_type": "code",
   "execution_count": 37,
   "metadata": {},
   "outputs": [
    {
     "name": "stdout",
     "output_type": "stream",
     "text": [
      "tensor([0.9841, 0.9909, 0.9822, 0.9883, 0.9909], device='cuda:0',\n",
      "       grad_fn=<SigmoidBackward>)\n"
     ]
    }
   ],
   "source": [
    "class my_first_deep_network(torch.nn.Module):\n",
    "    def __init__(self, in_features: int, intermediate_features: int, out_features: int, device: str) -> None:\n",
    "        super(my_first_deep_network, self).__init__()\n",
    "        self.device = device\n",
    "        self.n_1 = my_first_network(in_features=in_features, out_features=intermediate_features, device=self.device)\n",
    "        self.n_2 = my_first_network(in_features=intermediate_features, out_features=out_features, device=self.device)\n",
    "        \n",
    "    def forward(self, x: torch.FloatTensor) -> torch.FloatTensor:\n",
    "        return self.n_2(self.n_1(x))\n",
    "    \n",
    "g = my_first_deep_network(in_features=3, intermediate_features=12, out_features=5, device=device)\n",
    "y = g(x)\n",
    "print(y)"
   ]
  },
  {
   "cell_type": "markdown",
   "metadata": {},
   "source": [
    "Very easy, right?\n",
    "\n",
    "Except we just did it the hard way! We could have used torch's pre-made `torch.nn.Linear`, the existing abstraction for single feedforward layers, and `torch.nn.Sequential`, the abstraction for composing sequences of networks. `Sequential` is initiated by an iterable of neural modules (not functions!), which are applied in the order specified.\n",
    "\n",
    "How would that have looked like?"
   ]
  },
  {
   "cell_type": "code",
   "execution_count": 38,
   "metadata": {},
   "outputs": [
    {
     "name": "stdout",
     "output_type": "stream",
     "text": [
      "tensor([0.5633, 0.5967, 0.6367, 0.5867, 0.5959], device='cuda:0',\n",
      "       grad_fn=<SigmoidBackward>)\n"
     ]
    }
   ],
   "source": [
    "h = torch.nn.Sequential(\n",
    "    torch.nn.Linear(in_features=3, out_features=12),\n",
    "    torch.nn.Sigmoid(), \n",
    "    torch.nn.Linear(in_features=12, out_features=5), \n",
    "    torch.nn.Sigmoid()  \n",
    ").to(device) \n",
    "\n",
    "y = h(x)\n",
    "print(y)"
   ]
  },
  {
   "cell_type": "markdown",
   "metadata": {},
   "source": [
    "Even easier!\n",
    "\n",
    "<div class=\"alert alert-block alert-info\">\n",
    "<b>Note:</b> When composing networks using the `Sequential` abstraction, you should make sure that each network's expected input shape matches the output shape of the previous network. The device conversion is applied recursively to each sub-module within a module, ensuring that all components of the network live happily in the same device. 🏠 \n",
    "</div>\n",
    "\n",
    "So, why ever define our own networks if torch can do it for us? The answer is that very often (and very soon!) it might be the case that you'll need to write your own, potentially complex, computation flow, which won't necesserily be possible to rephrase as simple layer stacking."
   ]
  },
  {
   "cell_type": "code",
   "execution_count": 39,
   "metadata": {},
   "outputs": [],
   "source": [
    "del x, y, h, g, f, my_first_network, my_first_deep_network"
   ]
  },
  {
   "cell_type": "markdown",
   "metadata": {},
   "source": [
    "<a id='3b'></a>\n",
    "### B.  Loss Functions\n",
    "\n",
    "We have seen how to construct parametric, trainable functions and networks. Requiring a gradient and having a gradient are two different things, however. To obtain the gradients of our trainable parameters we need a loss function. The loss function is an indicator of how far off the network's output (prediction) is from the actual truth. Applying the chain rule, we may differentiate the loss value w.r.t. the model's parameters, populating the tensors' gradients in the process. \n",
    "\n",
    "As with networks, torch provides implementations for the commonly used loss functions but also allows us to write our own (as another neural module!).\n",
    "\n",
    "We will only experiment with an existing loss function, but first we need to construct some data to play with-- we can create a synthetic data set of pairs $(x_i, y_i)$ where $x_i$ is a random number and $y_i = 3 \\cdot x_i - 2$"
   ]
  },
  {
   "cell_type": "code",
   "execution_count": 40,
   "metadata": {},
   "outputs": [],
   "source": [
    "# a tensor of shape 100, 1, i.e. 100 data points each of dimensionality 1\n",
    "x = torch.rand((100, 1), device=device) \n",
    "y = 3 * x - 2"
   ]
  },
  {
   "cell_type": "markdown",
   "metadata": {},
   "source": [
    "Time to employ a linear network.\n",
    "\n",
    "<div class=\"alert alert-block alert-warning\">\n",
    "<b>Warning:</b>\n",
    "Don't mix up input/output dimensionality and number of data samples! \n",
    "</div>"
   ]
  },
  {
   "cell_type": "code",
   "execution_count": 41,
   "metadata": {},
   "outputs": [],
   "source": [
    "f = torch.nn.Linear(in_features=1, out_features=1).to(device)\n",
    "prediction = f(x)"
   ]
  },
  {
   "cell_type": "markdown",
   "metadata": {},
   "source": [
    "Now to define our loss function:"
   ]
  },
  {
   "cell_type": "code",
   "execution_count": 42,
   "metadata": {},
   "outputs": [],
   "source": [
    "loss_fn = torch.nn.MSELoss()"
   ]
  },
  {
   "cell_type": "markdown",
   "metadata": {},
   "source": [
    "Note that each element of our batch (i.e. each of the 100 data samples) has its own MSE w.r.t. to its corresponding output. These unique losses are averaged into a single scalar by the loss function."
   ]
  },
  {
   "cell_type": "code",
   "execution_count": 43,
   "metadata": {},
   "outputs": [
    {
     "name": "stdout",
     "output_type": "stream",
     "text": [
      "tensor(0.8843, device='cuda:0', grad_fn=<MeanBackward0>)\n"
     ]
    }
   ],
   "source": [
    "loss = loss_fn(y, prediction)\n",
    "print(loss)"
   ]
  },
  {
   "cell_type": "markdown",
   "metadata": {},
   "source": [
    "Now that we have computed the loss, we may use it to populate the parameters' gradients via a backward pass. This is automagically done by a simple call of `backward`. 🧙"
   ]
  },
  {
   "cell_type": "code",
   "execution_count": 44,
   "metadata": {},
   "outputs": [],
   "source": [
    "loss.backward()"
   ]
  },
  {
   "cell_type": "markdown",
   "metadata": {},
   "source": [
    "Torch provides a few different loss functions, each for a particular usecase (the task and your output layer's activation function). Note that particular loss functions are already implementing the network's output activation internally. Refer to the [documentation](https://pytorch.org/docs/stable/nn.html#loss-functions) for a detailed overview. In most cases, the cheat-sheet below should contain the answer.\n",
    "\n",
    "<div class=\"alert alert-block alert-info\">\n",
    "<b>Tip:</b> At a loss on which loss to use? Use this cheat-sheet!\n",
    "</div>\n",
    "\n",
    "| Task | Activation | Loss Function |\n",
    "| --- | --- | --- | --- |\n",
    "| K-class Classification | - | CrossEntropyLoss |\n",
    "| K-class Classification | LogSoftmax | NLLLoss |\n",
    "| K-class, Multi-Label Classification | - | BCEWithLogitsLoss |\n",
    "| K-class, Multi-Label Classification | LogSigmoid | BCELoss |\n",
    "| Continuous Regression | - | MSELoss |\n",
    "| Probability Distribution Fitting | LogSoftmax / LogSigmoid | KLDivLoss |"
   ]
  },
  {
   "cell_type": "markdown",
   "metadata": {},
   "source": [
    "<a id='3c'></a>\n",
    "\n",
    "### C.  Optimizers\n",
    "Our struggles are slowly coming to an end. We have made a trainable network, we have computed the loss given the true output, and we have used the loss to populate the parameter gradients. The final thing to do is to use these gradients in order to update the parameter values. \n",
    "This is managed by an `Optimizer`. Gradient based optimizers are the norm for training neural networks; all of them are variants of stochastic gradient descent. Torch provides implementations of the classic optimizers. Regardless of which one of them is your favourite, the process always involves the same steps:\n",
    "1. Initiate the optimizer by letting it know which parameters it is going to be responsible for\n",
    "2. Iterate over your data, and:\n",
    "    2. Compute the loss\n",
    "    3. Back-propagate\n",
    "    4. Perform an optimization step\n",
    "    5. Zero out the gradients (so that they don't accumulate over optimization steps)\n",
    "\n",
    "Let's see them in action on our toy network and synthetic dataset."
   ]
  },
  {
   "cell_type": "code",
   "execution_count": 45,
   "metadata": {},
   "outputs": [
    {
     "name": "stdout",
     "output_type": "stream",
     "text": [
      "Iteration 0 loss: 0.8843440413475037\n",
      "Iteration 500 loss: 0.6325738430023193\n",
      "Iteration 1000 loss: 0.4355722665786743\n",
      "Iteration 1500 loss: 0.28672876954078674\n",
      "Iteration 2000 loss: 0.1781180053949356\n",
      "Iteration 2500 loss: 0.10253946483135223\n",
      "Iteration 3000 loss: 0.05334730073809624\n",
      "Iteration 3500 loss: 0.024222560226917267\n",
      "Iteration 4000 loss: 0.009146654978394508\n",
      "Iteration 4500 loss: 0.002690437249839306\n",
      "Iteration 5000 loss: 0.000565648777410388\n"
     ]
    }
   ],
   "source": [
    "opt = torch.optim.Adam(f.parameters())  # initiate optimizer\n",
    "for t in range(5001):  # iterate\n",
    "    prediction = f(x)  # predict \n",
    "    loss = loss_fn(prediction, y)  # compute loss\n",
    "    loss.backward()  # backpropagate\n",
    "    opt.step()  # optimize\n",
    "    opt.zero_grad()  # reset gradients\n",
    "    if t%500 == 0:\n",
    "        print('Iteration {} loss: {}'.format(t, loss.item()))"
   ]
  },
  {
   "cell_type": "markdown",
   "metadata": {},
   "source": [
    "Congratulations! You have trained your first torch network! 🎉\n",
    "\n",
    "You can now probe its inner parameters to see to what extent it figured out the truth."
   ]
  },
  {
   "cell_type": "code",
   "execution_count": 46,
   "metadata": {},
   "outputs": [
    {
     "name": "stdout",
     "output_type": "stream",
     "text": [
      "Parameter containing:\n",
      "tensor([[2.9223]], device='cuda:0', requires_grad=True)\n",
      "Parameter containing:\n",
      "tensor([-1.9605], device='cuda:0', requires_grad=True)\n"
     ]
    }
   ],
   "source": [
    "print(f.weight)\n",
    "print(f.bias)"
   ]
  },
  {
   "cell_type": "markdown",
   "metadata": {},
   "source": [
    "---"
   ]
  },
  {
   "cell_type": "markdown",
   "metadata": {},
   "source": [
    "<a id='3d'></a>\n",
    "\n",
    "### D. Exercises"
   ]
  },
  {
   "cell_type": "markdown",
   "metadata": {},
   "source": [
    "Before we move on to a somewhat more realistic problem, it might be a good idea to get further acquainted with the basics. \n",
    "\n",
    "Let's take a quick look at a few different non-linear activations first."
   ]
  },
  {
   "cell_type": "markdown",
   "metadata": {},
   "source": [
    "Use `arange` to construct a float tensor $x$ of values $0 \\dots 1000$ in ascending order. Then element-wise subtract $500$ and divide by $100$ to get a tensor of values $-5 \\dots 5$."
   ]
  },
  {
   "cell_type": "code",
   "execution_count": 47,
   "metadata": {},
   "outputs": [],
   "source": [
    "x = (torch.arange(0, 1001, dtype=torch.float) - 500) / 100"
   ]
  },
  {
   "cell_type": "markdown",
   "metadata": {},
   "source": [
    "Construct the tensors $s = \\sigma(x)$, $t = tanh(x)$ and $r = ReLU(x)$."
   ]
  },
  {
   "cell_type": "code",
   "execution_count": 48,
   "metadata": {},
   "outputs": [],
   "source": [
    "s = torch.sigmoid(x)\n",
    "t = torch.tanh(x)\n",
    "r = torch.relu(x)"
   ]
  },
  {
   "cell_type": "markdown",
   "metadata": {},
   "source": [
    "Now we can convert these to numpy arrays and plot the results. "
   ]
  },
  {
   "cell_type": "code",
   "execution_count": 49,
   "metadata": {},
   "outputs": [
    {
     "data": {
      "image/png": "[encoded data removed]",
      "text/plain": [
       "<Figure size 432x288 with 1 Axes>"
      ]
     },
     "metadata": {
      "needs_background": "light"
     },
     "output_type": "display_data"
    }
   ],
   "source": [
    "%matplotlib inline\n",
    "from matplotlib import pyplot as plt\n",
    "plt.plot(x.cpu().numpy(),s.cpu().numpy())\n",
    "plt.plot(x.cpu().numpy(),t.cpu().numpy())\n",
    "plt.plot(x.cpu().numpy(),r.cpu().numpy())\n",
    "plt.ylim((-2, 5))\n",
    "plt.legend(['sigmoid', 'tanh', 'relu'])\n",
    "plt.show()"
   ]
  },
  {
   "cell_type": "markdown",
   "metadata": {},
   "source": [
    "Let's practice some more by solving the infamous XOR problem with a small deep network. "
   ]
  },
  {
   "cell_type": "code",
   "execution_count": 50,
   "metadata": {},
   "outputs": [],
   "source": [
    "X = torch.tensor([[0, 0], [0, 1], [1, 0], [1, 1]], device=device, dtype=torch.float)\n",
    "Y = torch.tensor([0, 1, 1, 0], device=device, dtype=torch.float)"
   ]
  },
  {
   "cell_type": "markdown",
   "metadata": {},
   "source": [
    "Use `torch.nn.Sequential` to create a minimal deep network with 1 output dimension and 2 intermediate dimensions. Use ReLU as your intermediate layer activation. \n",
    "\n",
    "Picturing the problem as a classification over two classes, select an appropriate output activation and loss function (refer to the cheat-sheet for aid)."
   ]
  },
  {
   "cell_type": "code",
   "execution_count": 51,
   "metadata": {},
   "outputs": [],
   "source": [
    "f = torch.nn.Sequential(\n",
    "    torch.nn.Linear(in_features=2, out_features=2),\n",
    "    torch.nn.ReLU(),\n",
    "    torch.nn.Linear(in_features=2, out_features=1),\n",
    ").to(device)\n",
    "\n",
    "\n",
    "loss_fn = torch.nn.BCEWithLogitsLoss()"
   ]
  },
  {
   "cell_type": "markdown",
   "metadata": {},
   "source": [
    "Instantiate an optimizer for your network."
   ]
  },
  {
   "cell_type": "code",
   "execution_count": 52,
   "metadata": {},
   "outputs": [],
   "source": [
    "opt = torch.optim.Adam(f.parameters())"
   ]
  },
  {
   "cell_type": "markdown",
   "metadata": {},
   "source": [
    "Perform 5000 iterations of training, printing the loss as you go."
   ]
  },
  {
   "cell_type": "code",
   "execution_count": 55,
   "metadata": {},
   "outputs": [
    {
     "name": "stdout",
     "output_type": "stream",
     "text": [
      "Iteration 0 loss: 0.06485240161418915\n",
      "Iteration 500 loss: 0.0464593842625618\n",
      "Iteration 1000 loss: 0.033684633672237396\n",
      "Iteration 1500 loss: 0.024679450318217278\n",
      "Iteration 2000 loss: 0.018250208348035812\n",
      "Iteration 2500 loss: 0.013602904975414276\n",
      "Iteration 3000 loss: 0.010208897292613983\n",
      "Iteration 3500 loss: 0.007707089651376009\n",
      "Iteration 4000 loss: 0.005846885032951832\n",
      "Iteration 4500 loss: 0.004455992020666599\n",
      "Iteration 5000 loss: 0.0034086972009390593\n"
     ]
    }
   ],
   "source": [
    "for t in range(5001):  # iterate\n",
    "    P = f(X)  # predict \n",
    "    loss = loss_fn(P.flatten(), Y)  # compute loss\n",
    "    loss.backward()  # backpropagate\n",
    "    opt.step()  # optimize\n",
    "    opt.zero_grad()  # reset gradients\n",
    "    if t%500 == 0:\n",
    "        print('Iteration {} loss: {}'.format(t, loss.item()))"
   ]
  },
  {
   "cell_type": "markdown",
   "metadata": {},
   "source": [
    "You might encounter a shape error here. If you do, don't panic! Read it, understand what the problem is and remember `.view()`.\n",
    "\n",
    "Is the loss improving? If not, try toying around with the intermediate layer's width, the optimizer and its learning rate until your network can solve the problem."
   ]
  },
  {
   "cell_type": "code",
   "execution_count": null,
   "metadata": {},
   "outputs": [],
   "source": []
  },
  {
   "cell_type": "code",
   "execution_count": 56,
   "metadata": {},
   "outputs": [],
   "source": [
    "del f, loss_fn, opt, X, Y"
   ]
  },
  {
   "cell_type": "code",
   "execution_count": null,
   "metadata": {},
   "outputs": [],
   "source": []
  },
  {
   "cell_type": "markdown",
   "metadata": {},
   "source": [
    "<a id='3d'></a>\n",
    "## 4. Putting Everything Together\n",
    "Time to hone our newly acquired torch skills! \n",
    "\n",
    "We will now put everything together and write an actual network on a real task. The code below is mostly complete, but some parts here and there are missing. You will be asked to fill those in, so pay attention!"
   ]
  },
  {
   "cell_type": "markdown",
   "metadata": {},
   "source": [
    "First, construct a two-layer network that implements the function $f: \\mathbb{R}^{300} \\to \\mathbb{R}$, such that:\n",
    "\n",
    "$f(x) = W_2(ReLU(W_1x + \\beta_1)) + \\beta_2$\n",
    "\n",
    "where:\n",
    "* $W_1 \\in \\mathbb{R}^{100 \\times 300}$\n",
    "* $W_2 \\in \\mathbb{R}^{1 \\times 100}$ \n",
    "* $ \\beta_1 \\in \\mathbb{R}^{100}$ \n",
    "* $\\beta_2 \\in \\mathbb{R}$\n",
    "\n",
    "\n",
    "using `torch.nn.Sequential` "
   ]
  },
  {
   "cell_type": "code",
   "execution_count": 70,
   "metadata": {},
   "outputs": [],
   "source": [
    "f = torch.nn.Sequential(\n",
    "    torch.nn.Linear(in_features=300, out_features=100),\n",
    "    torch.nn.ReLU(),\n",
    "    torch.nn.Linear(in_features=100, out_features=1),\n",
    ").to(device)"
   ]
  },
  {
   "cell_type": "markdown",
   "metadata": {},
   "source": [
    "Let's make some use of this network on real data.\n",
    "We are going to open a data dump containing ~5500 baby names. Each name is associated with a label (either 0 for male, or 1 for female), but also a 300-dimensional vector. Representing words as dense vectors is standard practice in NLP; you will learn more about these vectors in your first assignment. For now, we will simply use them in an attempt to teach the network to distinguish between boy and girl babies given their names, while writing some useful code in the process. 👶 🍼"
   ]
  },
  {
   "cell_type": "code",
   "execution_count": 57,
   "metadata": {},
   "outputs": [],
   "source": [
    "import pickle\n",
    "with open('name_data.p', 'rb') as file:\n",
    "    names, vectors, labels = pickle.load(file)"
   ]
  },
  {
   "cell_type": "markdown",
   "metadata": {},
   "source": [
    "What do our data look like? Run the snippet below a couple of times to get an impression."
   ]
  },
  {
   "cell_type": "code",
   "execution_count": 58,
   "metadata": {},
   "outputs": [
    {
     "name": "stdout",
     "output_type": "stream",
     "text": [
      "[['Carroll' '1']\n",
      " ['Rudolph' '0']\n",
      " ['Parker' '0']\n",
      " ['Velvet' '1']\n",
      " ['Cleo' '1']\n",
      " ['Eliot' '0']\n",
      " ['Darcy' '1']\n",
      " ['Aubrey' '1']\n",
      " ['Desdemona' '1']\n",
      " ['Evan' '0']\n",
      " ['Mike' '0']\n",
      " ['Anet' '1']\n",
      " ['Damien' '0']\n",
      " ['Lonnie' '1']\n",
      " ['Sterne' '0']\n",
      " ['Socrates' '0']\n",
      " ['Dennis' '0']\n",
      " ['Eleonora' '1']\n",
      " ['Hobart' '0']\n",
      " ['Bridgett' '1']]\n"
     ]
    }
   ],
   "source": [
    "print(np.random.permutation(list(zip(names, labels)))[0:20])"
   ]
  },
  {
   "cell_type": "markdown",
   "metadata": {},
   "source": [
    "`vectors` is a list of numpy arrays, and `labels` is a list of integers. We will need to convert them to lists of FloatTensors. Since that is a lot of data, it is unlikely for them to all fit in the GPU, so we will use the RAM as a temporary storage regardless of your currently used device."
   ]
  },
  {
   "cell_type": "code",
   "execution_count": 59,
   "metadata": {},
   "outputs": [],
   "source": [
    "# or alternatively, vectors = [torch.tensor(vector) for vector in vectors]\n",
    "vectors = list(map(lambda x: torch.tensor(x, dtype=torch.float), vectors))\n",
    "labels = list(map(lambda x: torch.tensor(x, dtype=torch.float), labels))  "
   ]
  },
  {
   "cell_type": "markdown",
   "metadata": {},
   "source": [
    "Training on your entire dataset is bad practice; we should split the data into a training set and a validation set. We could either do it manually, or let `sklearn` do it for us."
   ]
  },
  {
   "cell_type": "code",
   "execution_count": 60,
   "metadata": {},
   "outputs": [],
   "source": [
    "from sklearn.model_selection import train_test_split\n",
    "names_train, names_val, X_train, X_val, Y_train, Y_val = train_test_split(names, vectors, labels, test_size=0.2)\n",
    "assert len(X_train) == len(Y_train) == len(names_train)\n",
    "assert len(X_val) == len(Y_val) == len(names_val)"
   ]
  },
  {
   "cell_type": "markdown",
   "metadata": {},
   "source": [
    "Now that we have split the data, we may convert them from a list of tensors onto a big tensor. We could do that by using `view()` to expand the first dimension of each vector and then `cat()` to merge them, but an easier shorthand is `stack()`."
   ]
  },
  {
   "cell_type": "code",
   "execution_count": 61,
   "metadata": {},
   "outputs": [
    {
     "name": "stdout",
     "output_type": "stream",
     "text": [
      "torch.Size([4310, 300])\n",
      "torch.Size([1078, 300])\n",
      "torch.Size([4310])\n",
      "torch.Size([1078])\n"
     ]
    }
   ],
   "source": [
    "X_train = torch.stack(X_train)\n",
    "X_val = torch.stack(X_val)\n",
    "Y_train = torch.tensor(Y_train)\n",
    "Y_val = torch.tensor(Y_val)\n",
    "print(X_train.shape)\n",
    "print(X_val.shape)\n",
    "print(Y_train.shape)\n",
    "print(Y_val.shape)"
   ]
  },
  {
   "cell_type": "markdown",
   "metadata": {},
   "source": [
    "Now that we have our tensors in a sensible format, we may construct a Dataset (a storage unit for our data) and a DataLoader (a wrapper responsible for shuffling the data, iterating through them and converting them to batches)."
   ]
  },
  {
   "cell_type": "code",
   "execution_count": 62,
   "metadata": {},
   "outputs": [],
   "source": [
    "from torch.utils.data import TensorDataset\n",
    "from torch.utils.data import DataLoader\n",
    "\n",
    "train_dataset = TensorDataset(X_train, Y_train)\n",
    "train_dataloader = DataLoader(train_dataset, batch_size=32, shuffle=True)\n",
    "val_dataset = TensorDataset(X_val, Y_val)\n",
    "val_dataloader = DataLoader(val_dataset, batch_size=32, shuffle=False)  # no need to shuffle the validation data"
   ]
  },
  {
   "cell_type": "markdown",
   "metadata": {},
   "source": [
    "Let's begin and immediately stop an iteration through the training dataloader to get an idea of what's going on."
   ]
  },
  {
   "cell_type": "code",
   "execution_count": 63,
   "metadata": {},
   "outputs": [
    {
     "name": "stdout",
     "output_type": "stream",
     "text": [
      "torch.Size([32, 300])\n",
      "torch.float32\n",
      "torch.Size([32])\n",
      "torch.float32\n"
     ]
    }
   ],
   "source": [
    "for batch_x, batch_y in train_dataloader:\n",
    "    print(batch_x.shape)\n",
    "    print(batch_x.dtype)\n",
    "    print(batch_y.shape)\n",
    "    print(batch_y.dtype)\n",
    "    break\n"
   ]
  },
  {
   "cell_type": "markdown",
   "metadata": {},
   "source": [
    "Looking good; batch_x is 32 300-dimensional vectors, and batch_y is 32 values."
   ]
  },
  {
   "cell_type": "markdown",
   "metadata": {},
   "source": [
    "`train_batch()` is a function that takes a network, a batch of inputs, a batch of outputs, a loss function and an optimizer, runs the training routine on that batch and returns the loss value of that batch"
   ]
  },
  {
   "cell_type": "code",
   "execution_count": 64,
   "metadata": {},
   "outputs": [],
   "source": [
    "from typing import Callable, List\n",
    "\n",
    "# Callable is typed as Callable[[i1, i2, ..], o]\n",
    "# where i1, i2, .. the input types and o the output type\n",
    "\n",
    "def train_batch(network: torch.nn.Module,  # the network\n",
    "                X_batch: torch.FloatTensor,  # the X batch\n",
    "                Y_batch: torch.LongTensor,   # the Y batch\n",
    "                # a function from a FloatTensor (prediction) and a FloatTensor (Y) to a FloatTensor (the loss)\n",
    "                loss_fn: Callable[[torch.FloatTensor, torch.FloatTensor], torch.FloatTensor],  \n",
    "                # the optimizer\n",
    "                optimizer: torch.optim.Optimizer) -> float:\n",
    "    \n",
    "    network.train()\n",
    "    \n",
    "    prediction_batch = network(X_batch)  # forward pass\n",
    "    batch_loss = loss_fn(prediction_batch.view(-1), Y_batch)  # loss calculation\n",
    "    batch_loss.backward()  # gradient computation\n",
    "    optimizer.step()  # back-propagation\n",
    "    optimizer.zero_grad()  # gradient reset\n",
    "    return batch_loss.item()"
   ]
  },
  {
   "cell_type": "markdown",
   "metadata": {},
   "source": [
    "<div class=\"alert alert-block alert-info\">\n",
    "<b>Note:</b> Several network components (e.g. dropout units) may behave differently during training and validation. We use `.train()` to inform the network that we are in training time.\n",
    "</div>\n",
    "\n",
    "<div class=\"alert alert-block alert-warning\">\n",
    "<b>Warning:</b>\n",
    "The `batch_loss` tensor requires gradient (why?). It is important to return its contents with `.item()` rather than the tensor itself, otherwise we risk memory leak because of the accumulated gradient tracking.\n",
    "</div>"
   ]
  },
  {
   "cell_type": "markdown",
   "metadata": {},
   "source": [
    "`train_epoch()` is a function that takes a network, the training dataloader, a loss function and an optimizer. It iterates through the dataloader and is responsible for calling `train_batch()`."
   ]
  },
  {
   "cell_type": "code",
   "execution_count": 65,
   "metadata": {},
   "outputs": [],
   "source": [
    "def train_epoch(network: torch.nn.Module, \n",
    "                # a list of data points x\n",
    "                dataloader: DataLoader,\n",
    "                loss_fn: Callable[[torch.FloatTensor, torch.FloatTensor], torch.FloatTensor],\n",
    "                optimizer: torch.optim.Optimizer, \n",
    "                device: str) -> float:\n",
    "    \n",
    "    loss = 0.\n",
    "    \n",
    "    for i, (x_batch, y_batch) in enumerate(dataloader):\n",
    "        x_batch = x_batch.to(device)  # convert back to your chosen device\n",
    "        y_batch = y_batch.to(device)\n",
    "        loss += train_batch(network=network, X_batch=x_batch, Y_batch=y_batch, loss_fn=loss_fn, optimizer=optimizer)\n",
    "    loss /= (i+1) # divide loss by number of batches for consistency \n",
    "        \n",
    "    return loss"
   ]
  },
  {
   "cell_type": "markdown",
   "metadata": {},
   "source": [
    "Your turn; fill in the missing parts of `eval_batch()`, a function that takes a network, a batch of inputs, a batch of outputs and a loss function, and computes the loss of that batch."
   ]
  },
  {
   "cell_type": "code",
   "execution_count": 66,
   "metadata": {},
   "outputs": [],
   "source": [
    "def eval_batch(network: torch.nn.Module,  # the network\n",
    "                X_batch: torch.FloatTensor,  # the X batch\n",
    "                Y_batch: torch.LongTensor,   # the Y batch\n",
    "                loss_fn: Callable[[torch.FloatTensor, torch.LongTensor], torch.FloatTensor]) -> float:\n",
    "    \n",
    "    network.eval()\n",
    "    \n",
    "    with torch.no_grad():\n",
    "        prediction_batch = network(X_batch)  # forward pass\n",
    "        batch_loss = loss_fn(prediction_batch.view(-1), Y_batch)  # loss calculation\n",
    "        \n",
    "    return batch_loss.item()"
   ]
  },
  {
   "cell_type": "markdown",
   "metadata": {},
   "source": [
    "<div class=\"alert alert-block alert-info\">\n",
    "<b>Note:</b> Notice that we use `.eval()` to inform the network we are in validation time. Notice also the `no_grad()` context; this is telling torch that it doesn't need to bother with gradient tracking momentarily, providing a significant speed-up for the current session.\n",
    "</div>"
   ]
  },
  {
   "cell_type": "markdown",
   "metadata": {},
   "source": [
    "`eval_epoch()` is basically the same as `train_epoch()`, aside the lack of an optimizer. Fill it in."
   ]
  },
  {
   "cell_type": "code",
   "execution_count": 67,
   "metadata": {},
   "outputs": [],
   "source": [
    "def eval_epoch(network: torch.nn.Module, \n",
    "                # a list of data points x\n",
    "                dataloader: DataLoader,\n",
    "                loss_fn: Callable[[torch.FloatTensor, torch.LongTensor], torch.FloatTensor],\n",
    "                device: str) -> float:\n",
    "    \n",
    "    loss = 0.\n",
    "    \n",
    "    for i, (x_batch, y_batch) in enumerate(dataloader):\n",
    "        x_batch = x_batch.to(device)\n",
    "        y_batch = y_batch.to(device)\n",
    "        loss += eval_batch(network=network, X_batch=x_batch, Y_batch=y_batch, loss_fn=loss_fn)\n",
    "    loss /= (i+1)\n",
    "        \n",
    "    return loss"
   ]
  },
  {
   "cell_type": "markdown",
   "metadata": {},
   "source": [
    "We can also make an auxilliary `infer_batch()` function; the forward pass gives us the final layer's output, but we might just be interested in the predicted class rather than its probability."
   ]
  },
  {
   "cell_type": "code",
   "execution_count": 68,
   "metadata": {},
   "outputs": [],
   "source": [
    "def infer_batch(network: torch.nn.Module, \n",
    "                batch_x: torch.FloatTensor, \n",
    "                device: str) -> torch.LongTensor:\n",
    "    \n",
    "    # first apply the sigmoid activation (since it is implemented by the loss function rather than the network itself)\n",
    "    sigm = torch.sigmoid(network(batch_x.to(device)))\n",
    "    # round the result\n",
    "    classes = torch.round(sigm)\n",
    "    # detach it from the computation graph (we no longer care about its gradients)\n",
    "    classes = classes.detach()\n",
    "    # cast the result into a LongTensor and return\n",
    "    return classes.to(torch.long)"
   ]
  },
  {
   "cell_type": "markdown",
   "metadata": {},
   "source": [
    "One last thing before we can finally train; we need a loss function and an optimizer. "
   ]
  },
  {
   "cell_type": "code",
   "execution_count": 71,
   "metadata": {},
   "outputs": [],
   "source": [
    "opt = torch.optim.Adam(f.parameters(), lr=1e-05)\n",
    "loss_fn = torch.nn.BCEWithLogitsLoss(reduction='mean')"
   ]
  },
  {
   "cell_type": "code",
   "execution_count": 72,
   "metadata": {},
   "outputs": [
    {
     "name": "stdout",
     "output_type": "stream",
     "text": [
      "Epoch 0\n",
      " Training Loss: 0.6866574110808196\n",
      " Validation Loss: 0.6833439837483799\n",
      "Epoch 1\n",
      " Training Loss: 0.6801969598840785\n",
      " Validation Loss: 0.677312985939138\n",
      "Epoch 2\n",
      " Training Loss: 0.6736689050992329\n",
      " Validation Loss: 0.6711371225469253\n",
      "Epoch 3\n",
      " Training Loss: 0.6669123040305244\n",
      " Validation Loss: 0.6646292104440576\n",
      "Epoch 4\n",
      " Training Loss: 0.6597927892649615\n",
      " Validation Loss: 0.657795366118936\n",
      "Epoch 5\n",
      " Training Loss: 0.6522611220677693\n",
      " Validation Loss: 0.6505193675265593\n",
      "Epoch 6\n",
      " Training Loss: 0.6442463662889268\n",
      " Validation Loss: 0.6427634884329403\n",
      "Epoch 7\n",
      " Training Loss: 0.6357061580375388\n",
      " Validation Loss: 0.6345920212128583\n",
      "Epoch 8\n",
      " Training Loss: 0.6267689148585002\n",
      " Validation Loss: 0.6258870082743028\n",
      "Epoch 9\n",
      " Training Loss: 0.6172897590531243\n",
      " Validation Loss: 0.6168984875959509\n",
      "Epoch 10\n",
      " Training Loss: 0.6075519446973447\n",
      " Validation Loss: 0.6074718271984774\n",
      "Epoch 11\n",
      " Training Loss: 0.5973229584870515\n",
      " Validation Loss: 0.5979001434410319\n",
      "Epoch 12\n",
      " Training Loss: 0.5871333886075902\n",
      " Validation Loss: 0.5881165266036987\n",
      "Epoch 13\n",
      " Training Loss: 0.5767303864161174\n",
      " Validation Loss: 0.5782613368595347\n",
      "Epoch 14\n",
      " Training Loss: 0.5662200080023871\n",
      " Validation Loss: 0.5684580978225259\n",
      "Epoch 15\n",
      " Training Loss: 0.5557642157431002\n",
      " Validation Loss: 0.5586915261605206\n",
      "Epoch 16\n",
      " Training Loss: 0.545365756087833\n",
      " Validation Loss: 0.5491378657958087\n",
      "Epoch 17\n",
      " Training Loss: 0.535212446362884\n",
      " Validation Loss: 0.539806571076898\n",
      "Epoch 18\n",
      " Training Loss: 0.5255359579015662\n",
      " Validation Loss: 0.530767131377669\n",
      "Epoch 19\n",
      " Training Loss: 0.5163301141173752\n",
      " Validation Loss: 0.5220075942137662\n",
      "Epoch 20\n",
      " Training Loss: 0.5068577148296215\n",
      " Validation Loss: 0.513581914936795\n",
      "Epoch 21\n",
      " Training Loss: 0.49817392340412847\n",
      " Validation Loss: 0.5056002955226337\n",
      "Epoch 22\n",
      " Training Loss: 0.4897329416539934\n",
      " Validation Loss: 0.49789545816533703\n",
      "Epoch 23\n",
      " Training Loss: 0.4817254249696378\n",
      " Validation Loss: 0.4906754511244157\n",
      "Epoch 24\n",
      " Training Loss: 0.4742310709423489\n",
      " Validation Loss: 0.48378654087291045\n",
      "Epoch 25\n",
      " Training Loss: 0.46694873858381203\n",
      " Validation Loss: 0.4773247645181768\n",
      "Epoch 26\n",
      " Training Loss: 0.4605870951105047\n",
      " Validation Loss: 0.47119833791957183\n",
      "Epoch 27\n",
      " Training Loss: 0.4539043336002915\n",
      " Validation Loss: 0.46548273370546456\n",
      "Epoch 28\n",
      " Training Loss: 0.44822363566469264\n",
      " Validation Loss: 0.46011703329927783\n",
      "Epoch 29\n",
      " Training Loss: 0.44287210747047706\n",
      " Validation Loss: 0.4550349905210383\n",
      "Epoch 30\n",
      " Training Loss: 0.4371536976761288\n",
      " Validation Loss: 0.4502990631496205\n",
      "Epoch 31\n",
      " Training Loss: 0.4321822486541889\n",
      " Validation Loss: 0.4457795847864712\n"
     ]
    },
    {
     "ename": "KeyboardInterrupt",
     "evalue": "",
     "output_type": "error",
     "traceback": [
      "\u001b[0;31m---------------------------------------------------------------------------\u001b[0m",
      "\u001b[0;31mKeyboardInterrupt\u001b[0m                         Traceback (most recent call last)",
      "\u001b[0;32m<ipython-input-72-a9d375a3a195>\u001b[0m in \u001b[0;36m<module>\u001b[0;34m\u001b[0m\n\u001b[1;32m      5\u001b[0m \u001b[0;34m\u001b[0m\u001b[0m\n\u001b[1;32m      6\u001b[0m \u001b[0;32mfor\u001b[0m \u001b[0mt\u001b[0m \u001b[0;32min\u001b[0m \u001b[0mrange\u001b[0m\u001b[0;34m(\u001b[0m\u001b[0mNUM_EPOCHS\u001b[0m\u001b[0;34m)\u001b[0m\u001b[0;34m:\u001b[0m\u001b[0;34m\u001b[0m\u001b[0;34m\u001b[0m\u001b[0m\n\u001b[0;32m----> 7\u001b[0;31m     \u001b[0mtrain_loss\u001b[0m \u001b[0;34m=\u001b[0m \u001b[0mtrain_epoch\u001b[0m\u001b[0;34m(\u001b[0m\u001b[0mf\u001b[0m\u001b[0;34m,\u001b[0m \u001b[0mtrain_dataloader\u001b[0m\u001b[0;34m,\u001b[0m \u001b[0moptimizer\u001b[0m\u001b[0;34m=\u001b[0m\u001b[0mopt\u001b[0m\u001b[0;34m,\u001b[0m \u001b[0mloss_fn\u001b[0m\u001b[0;34m=\u001b[0m\u001b[0mloss_fn\u001b[0m\u001b[0;34m,\u001b[0m \u001b[0mdevice\u001b[0m\u001b[0;34m=\u001b[0m\u001b[0mdevice\u001b[0m\u001b[0;34m)\u001b[0m\u001b[0;34m\u001b[0m\u001b[0;34m\u001b[0m\u001b[0m\n\u001b[0m\u001b[1;32m      8\u001b[0m     \u001b[0mval_loss\u001b[0m \u001b[0;34m=\u001b[0m \u001b[0meval_epoch\u001b[0m\u001b[0;34m(\u001b[0m\u001b[0mf\u001b[0m\u001b[0;34m,\u001b[0m \u001b[0mval_dataloader\u001b[0m\u001b[0;34m,\u001b[0m \u001b[0mloss_fn\u001b[0m\u001b[0;34m,\u001b[0m \u001b[0mdevice\u001b[0m\u001b[0;34m=\u001b[0m\u001b[0mdevice\u001b[0m\u001b[0;34m)\u001b[0m\u001b[0;34m\u001b[0m\u001b[0;34m\u001b[0m\u001b[0m\n\u001b[1;32m      9\u001b[0m \u001b[0;34m\u001b[0m\u001b[0m\n",
      "\u001b[0;32m<ipython-input-65-2e27a6d1ea06>\u001b[0m in \u001b[0;36mtrain_epoch\u001b[0;34m(network, dataloader, loss_fn, optimizer, device)\u001b[0m\n\u001b[1;32m      8\u001b[0m     \u001b[0mloss\u001b[0m \u001b[0;34m=\u001b[0m \u001b[0;36m0.\u001b[0m\u001b[0;34m\u001b[0m\u001b[0;34m\u001b[0m\u001b[0m\n\u001b[1;32m      9\u001b[0m \u001b[0;34m\u001b[0m\u001b[0m\n\u001b[0;32m---> 10\u001b[0;31m     \u001b[0;32mfor\u001b[0m \u001b[0mi\u001b[0m\u001b[0;34m,\u001b[0m \u001b[0;34m(\u001b[0m\u001b[0mx_batch\u001b[0m\u001b[0;34m,\u001b[0m \u001b[0my_batch\u001b[0m\u001b[0;34m)\u001b[0m \u001b[0;32min\u001b[0m \u001b[0menumerate\u001b[0m\u001b[0;34m(\u001b[0m\u001b[0mdataloader\u001b[0m\u001b[0;34m)\u001b[0m\u001b[0;34m:\u001b[0m\u001b[0;34m\u001b[0m\u001b[0;34m\u001b[0m\u001b[0m\n\u001b[0m\u001b[1;32m     11\u001b[0m         \u001b[0mx_batch\u001b[0m \u001b[0;34m=\u001b[0m \u001b[0mx_batch\u001b[0m\u001b[0;34m.\u001b[0m\u001b[0mto\u001b[0m\u001b[0;34m(\u001b[0m\u001b[0mdevice\u001b[0m\u001b[0;34m)\u001b[0m  \u001b[0;31m# convert back to your chosen device\u001b[0m\u001b[0;34m\u001b[0m\u001b[0;34m\u001b[0m\u001b[0m\n\u001b[1;32m     12\u001b[0m         \u001b[0my_batch\u001b[0m \u001b[0;34m=\u001b[0m \u001b[0my_batch\u001b[0m\u001b[0;34m.\u001b[0m\u001b[0mto\u001b[0m\u001b[0;34m(\u001b[0m\u001b[0mdevice\u001b[0m\u001b[0;34m)\u001b[0m\u001b[0;34m\u001b[0m\u001b[0;34m\u001b[0m\u001b[0m\n",
      "\u001b[0;32m/usr/local/lib/python3.6/dist-packages/torch/utils/data/dataloader.py\u001b[0m in \u001b[0;36m__next__\u001b[0;34m(self)\u001b[0m\n\u001b[1;32m    344\u001b[0m     \u001b[0;32mdef\u001b[0m \u001b[0m__next__\u001b[0m\u001b[0;34m(\u001b[0m\u001b[0mself\u001b[0m\u001b[0;34m)\u001b[0m\u001b[0;34m:\u001b[0m\u001b[0;34m\u001b[0m\u001b[0;34m\u001b[0m\u001b[0m\n\u001b[1;32m    345\u001b[0m         \u001b[0mindex\u001b[0m \u001b[0;34m=\u001b[0m \u001b[0mself\u001b[0m\u001b[0;34m.\u001b[0m\u001b[0m_next_index\u001b[0m\u001b[0;34m(\u001b[0m\u001b[0;34m)\u001b[0m  \u001b[0;31m# may raise StopIteration\u001b[0m\u001b[0;34m\u001b[0m\u001b[0;34m\u001b[0m\u001b[0m\n\u001b[0;32m--> 346\u001b[0;31m         \u001b[0mdata\u001b[0m \u001b[0;34m=\u001b[0m \u001b[0mself\u001b[0m\u001b[0;34m.\u001b[0m\u001b[0m_dataset_fetcher\u001b[0m\u001b[0;34m.\u001b[0m\u001b[0mfetch\u001b[0m\u001b[0;34m(\u001b[0m\u001b[0mindex\u001b[0m\u001b[0;34m)\u001b[0m  \u001b[0;31m# may raise StopIteration\u001b[0m\u001b[0;34m\u001b[0m\u001b[0;34m\u001b[0m\u001b[0m\n\u001b[0m\u001b[1;32m    347\u001b[0m         \u001b[0;32mif\u001b[0m \u001b[0mself\u001b[0m\u001b[0;34m.\u001b[0m\u001b[0m_pin_memory\u001b[0m\u001b[0;34m:\u001b[0m\u001b[0;34m\u001b[0m\u001b[0;34m\u001b[0m\u001b[0m\n\u001b[1;32m    348\u001b[0m             \u001b[0mdata\u001b[0m \u001b[0;34m=\u001b[0m \u001b[0m_utils\u001b[0m\u001b[0;34m.\u001b[0m\u001b[0mpin_memory\u001b[0m\u001b[0;34m.\u001b[0m\u001b[0mpin_memory\u001b[0m\u001b[0;34m(\u001b[0m\u001b[0mdata\u001b[0m\u001b[0;34m)\u001b[0m\u001b[0;34m\u001b[0m\u001b[0;34m\u001b[0m\u001b[0m\n",
      "\u001b[0;32m/usr/local/lib/python3.6/dist-packages/torch/utils/data/_utils/fetch.py\u001b[0m in \u001b[0;36mfetch\u001b[0;34m(self, possibly_batched_index)\u001b[0m\n\u001b[1;32m     42\u001b[0m     \u001b[0;32mdef\u001b[0m \u001b[0mfetch\u001b[0m\u001b[0;34m(\u001b[0m\u001b[0mself\u001b[0m\u001b[0;34m,\u001b[0m \u001b[0mpossibly_batched_index\u001b[0m\u001b[0;34m)\u001b[0m\u001b[0;34m:\u001b[0m\u001b[0;34m\u001b[0m\u001b[0;34m\u001b[0m\u001b[0m\n\u001b[1;32m     43\u001b[0m         \u001b[0;32mif\u001b[0m \u001b[0mself\u001b[0m\u001b[0;34m.\u001b[0m\u001b[0mauto_collation\u001b[0m\u001b[0;34m:\u001b[0m\u001b[0;34m\u001b[0m\u001b[0;34m\u001b[0m\u001b[0m\n\u001b[0;32m---> 44\u001b[0;31m             \u001b[0mdata\u001b[0m \u001b[0;34m=\u001b[0m \u001b[0;34m[\u001b[0m\u001b[0mself\u001b[0m\u001b[0;34m.\u001b[0m\u001b[0mdataset\u001b[0m\u001b[0;34m[\u001b[0m\u001b[0midx\u001b[0m\u001b[0;34m]\u001b[0m \u001b[0;32mfor\u001b[0m \u001b[0midx\u001b[0m \u001b[0;32min\u001b[0m \u001b[0mpossibly_batched_index\u001b[0m\u001b[0;34m]\u001b[0m\u001b[0;34m\u001b[0m\u001b[0;34m\u001b[0m\u001b[0m\n\u001b[0m\u001b[1;32m     45\u001b[0m         \u001b[0;32melse\u001b[0m\u001b[0;34m:\u001b[0m\u001b[0;34m\u001b[0m\u001b[0;34m\u001b[0m\u001b[0m\n\u001b[1;32m     46\u001b[0m             \u001b[0mdata\u001b[0m \u001b[0;34m=\u001b[0m \u001b[0mself\u001b[0m\u001b[0;34m.\u001b[0m\u001b[0mdataset\u001b[0m\u001b[0;34m[\u001b[0m\u001b[0mpossibly_batched_index\u001b[0m\u001b[0;34m]\u001b[0m\u001b[0;34m\u001b[0m\u001b[0;34m\u001b[0m\u001b[0m\n",
      "\u001b[0;32m/usr/local/lib/python3.6/dist-packages/torch/utils/data/_utils/fetch.py\u001b[0m in \u001b[0;36m<listcomp>\u001b[0;34m(.0)\u001b[0m\n\u001b[1;32m     42\u001b[0m     \u001b[0;32mdef\u001b[0m \u001b[0mfetch\u001b[0m\u001b[0;34m(\u001b[0m\u001b[0mself\u001b[0m\u001b[0;34m,\u001b[0m \u001b[0mpossibly_batched_index\u001b[0m\u001b[0;34m)\u001b[0m\u001b[0;34m:\u001b[0m\u001b[0;34m\u001b[0m\u001b[0;34m\u001b[0m\u001b[0m\n\u001b[1;32m     43\u001b[0m         \u001b[0;32mif\u001b[0m \u001b[0mself\u001b[0m\u001b[0;34m.\u001b[0m\u001b[0mauto_collation\u001b[0m\u001b[0;34m:\u001b[0m\u001b[0;34m\u001b[0m\u001b[0;34m\u001b[0m\u001b[0m\n\u001b[0;32m---> 44\u001b[0;31m             \u001b[0mdata\u001b[0m \u001b[0;34m=\u001b[0m \u001b[0;34m[\u001b[0m\u001b[0mself\u001b[0m\u001b[0;34m.\u001b[0m\u001b[0mdataset\u001b[0m\u001b[0;34m[\u001b[0m\u001b[0midx\u001b[0m\u001b[0;34m]\u001b[0m \u001b[0;32mfor\u001b[0m \u001b[0midx\u001b[0m \u001b[0;32min\u001b[0m \u001b[0mpossibly_batched_index\u001b[0m\u001b[0;34m]\u001b[0m\u001b[0;34m\u001b[0m\u001b[0;34m\u001b[0m\u001b[0m\n\u001b[0m\u001b[1;32m     45\u001b[0m         \u001b[0;32melse\u001b[0m\u001b[0;34m:\u001b[0m\u001b[0;34m\u001b[0m\u001b[0;34m\u001b[0m\u001b[0m\n\u001b[1;32m     46\u001b[0m             \u001b[0mdata\u001b[0m \u001b[0;34m=\u001b[0m \u001b[0mself\u001b[0m\u001b[0;34m.\u001b[0m\u001b[0mdataset\u001b[0m\u001b[0;34m[\u001b[0m\u001b[0mpossibly_batched_index\u001b[0m\u001b[0;34m]\u001b[0m\u001b[0;34m\u001b[0m\u001b[0;34m\u001b[0m\u001b[0m\n",
      "\u001b[0;32m/usr/local/lib/python3.6/dist-packages/torch/utils/data/dataset.py\u001b[0m in \u001b[0;36m__getitem__\u001b[0;34m(self, index)\u001b[0m\n\u001b[1;32m    160\u001b[0m \u001b[0;34m\u001b[0m\u001b[0m\n\u001b[1;32m    161\u001b[0m     \u001b[0;32mdef\u001b[0m \u001b[0m__getitem__\u001b[0m\u001b[0;34m(\u001b[0m\u001b[0mself\u001b[0m\u001b[0;34m,\u001b[0m \u001b[0mindex\u001b[0m\u001b[0;34m)\u001b[0m\u001b[0;34m:\u001b[0m\u001b[0;34m\u001b[0m\u001b[0;34m\u001b[0m\u001b[0m\n\u001b[0;32m--> 162\u001b[0;31m         \u001b[0;32mreturn\u001b[0m \u001b[0mtuple\u001b[0m\u001b[0;34m(\u001b[0m\u001b[0mtensor\u001b[0m\u001b[0;34m[\u001b[0m\u001b[0mindex\u001b[0m\u001b[0;34m]\u001b[0m \u001b[0;32mfor\u001b[0m \u001b[0mtensor\u001b[0m \u001b[0;32min\u001b[0m \u001b[0mself\u001b[0m\u001b[0;34m.\u001b[0m\u001b[0mtensors\u001b[0m\u001b[0;34m)\u001b[0m\u001b[0;34m\u001b[0m\u001b[0;34m\u001b[0m\u001b[0m\n\u001b[0m\u001b[1;32m    163\u001b[0m \u001b[0;34m\u001b[0m\u001b[0m\n\u001b[1;32m    164\u001b[0m     \u001b[0;32mdef\u001b[0m \u001b[0m__len__\u001b[0m\u001b[0;34m(\u001b[0m\u001b[0mself\u001b[0m\u001b[0;34m)\u001b[0m\u001b[0;34m:\u001b[0m\u001b[0;34m\u001b[0m\u001b[0;34m\u001b[0m\u001b[0m\n",
      "\u001b[0;32m/usr/local/lib/python3.6/dist-packages/torch/utils/data/dataset.py\u001b[0m in \u001b[0;36m<genexpr>\u001b[0;34m(.0)\u001b[0m\n\u001b[1;32m    160\u001b[0m \u001b[0;34m\u001b[0m\u001b[0m\n\u001b[1;32m    161\u001b[0m     \u001b[0;32mdef\u001b[0m \u001b[0m__getitem__\u001b[0m\u001b[0;34m(\u001b[0m\u001b[0mself\u001b[0m\u001b[0;34m,\u001b[0m \u001b[0mindex\u001b[0m\u001b[0;34m)\u001b[0m\u001b[0;34m:\u001b[0m\u001b[0;34m\u001b[0m\u001b[0;34m\u001b[0m\u001b[0m\n\u001b[0;32m--> 162\u001b[0;31m         \u001b[0;32mreturn\u001b[0m \u001b[0mtuple\u001b[0m\u001b[0;34m(\u001b[0m\u001b[0mtensor\u001b[0m\u001b[0;34m[\u001b[0m\u001b[0mindex\u001b[0m\u001b[0;34m]\u001b[0m \u001b[0;32mfor\u001b[0m \u001b[0mtensor\u001b[0m \u001b[0;32min\u001b[0m \u001b[0mself\u001b[0m\u001b[0;34m.\u001b[0m\u001b[0mtensors\u001b[0m\u001b[0;34m)\u001b[0m\u001b[0;34m\u001b[0m\u001b[0;34m\u001b[0m\u001b[0m\n\u001b[0m\u001b[1;32m    163\u001b[0m \u001b[0;34m\u001b[0m\u001b[0m\n\u001b[1;32m    164\u001b[0m     \u001b[0;32mdef\u001b[0m \u001b[0m__len__\u001b[0m\u001b[0;34m(\u001b[0m\u001b[0mself\u001b[0m\u001b[0;34m)\u001b[0m\u001b[0;34m:\u001b[0m\u001b[0;34m\u001b[0m\u001b[0;34m\u001b[0m\u001b[0m\n",
      "\u001b[0;31mKeyboardInterrupt\u001b[0m: "
     ]
    }
   ],
   "source": [
    "NUM_EPOCHS = 100\n",
    "\n",
    "train_losses = []\n",
    "val_losses = []\n",
    "\n",
    "for t in range(NUM_EPOCHS):\n",
    "    train_loss = train_epoch(f, train_dataloader, optimizer=opt, loss_fn=loss_fn, device=device)\n",
    "    val_loss = eval_epoch(f, val_dataloader, loss_fn, device=device)\n",
    "    \n",
    "    print('Epoch {}'.format(t))\n",
    "    print(' Training Loss: {}'.format(train_loss))\n",
    "    print(' Validation Loss: {}'.format(val_loss))\n",
    "    \n",
    "    train_losses.append(train_loss)\n",
    "    val_losses.append(val_loss)"
   ]
  },
  {
   "cell_type": "markdown",
   "metadata": {},
   "source": [
    "We may plot the losses to get an idea of what the learning curve looks like."
   ]
  },
  {
   "cell_type": "code",
   "execution_count": 73,
   "metadata": {},
   "outputs": [
    {
     "data": {
      "image/png": "[encoded data removed]",
      "text/plain": [
       "<Figure size 432x288 with 1 Axes>"
      ]
     },
     "metadata": {
      "needs_background": "light"
     },
     "output_type": "display_data"
    }
   ],
   "source": [
    "from matplotlib import pyplot as plt\n",
    "plt.plot(train_losses)\n",
    "plt.plot(val_losses)\n",
    "plt.legend(['Training', 'Validation'])\n",
    "plt.show()"
   ]
  },
  {
   "cell_type": "markdown",
   "metadata": {},
   "source": [
    "And let's bring this to an end by labeling all of our validation data and printing the results."
   ]
  },
  {
   "cell_type": "code",
   "execution_count": 74,
   "metadata": {},
   "outputs": [
    {
     "name": "stdout",
     "output_type": "stream",
     "text": [
      "[('Wendi', [1]),\n",
      " ('Yardley', [0]),\n",
      " ('Louisa', [1]),\n",
      " ('Maryellen', [1]),\n",
      " ('Jermaine', [0]),\n",
      " ('Belinda', [1]),\n",
      " ('Magda', [1]),\n",
      " ('Iago', [0]),\n",
      " ('Eddy', [0]),\n",
      " ('Marisa', [1]),\n",
      " ('Humbert', [1]),\n",
      " ('Emanuel', [0]),\n",
      " ('Gui', [0]),\n",
      " ('Blanche', [1]),\n",
      " ('Anselm', [0]),\n",
      " ('Lillian', [1]),\n",
      " ('Derby', [0]),\n",
      " ('Sheri', [1]),\n",
      " ('Clem', [0]),\n",
      " ('Rose', [1]),\n",
      " ('Lilah', [1]),\n",
      " ('Heathcliff', [1]),\n",
      " ('Alisha', [1]),\n",
      " ('Tan', [1]),\n",
      " ('Atlanta', [0]),\n",
      " ('Sydney', [0]),\n",
      " ('Pail', [1]),\n",
      " ('Edin', [1]),\n",
      " ('Frances', [1]),\n",
      " ('Meridith', [1]),\n",
      " ('Sidney', [0]),\n",
      " ('Christine', [1]),\n",
      " ('Barnabas', [0]),\n",
      " ('Mickie', [1]),\n",
      " ('Barrie', [0]),\n",
      " ('Mamie', [1]),\n",
      " ('Sayer', [0]),\n",
      " ('Kraig', [0]),\n",
      " ('Ellen', [1]),\n",
      " ('Worthington', [0]),\n",
      " ('Jewel', [1]),\n",
      " ('Guthrie', [0]),\n",
      " ('Annabelle', [1]),\n",
      " ('Ashlee', [1]),\n",
      " ('Alford', [0]),\n",
      " ('Ginnie', [1]),\n",
      " ('Marie-Jeanne', [1]),\n",
      " ('Maryanne', [1]),\n",
      " ('Shepard', [0]),\n",
      " ('Maude', [1]),\n",
      " ('Lorne', [0]),\n",
      " ('Ariel', [1]),\n",
      " ('Carlyle', [0]),\n",
      " ('Silvana', [1]),\n",
      " ('Roxanne', [1]),\n",
      " ('Francesca', [1]),\n",
      " ('Marilyn', [1]),\n",
      " ('Candice', [1]),\n",
      " ('Constantin', [0]),\n",
      " ('Hill', [0]),\n",
      " ('Patty', [1]),\n",
      " ('Rickie', [0]),\n",
      " ('Clare', [1]),\n",
      " ('Byram', [0]),\n",
      " ('Diane-Marie', [1]),\n",
      " ('Katey', [1]),\n",
      " ('Emmit', [0]),\n",
      " ('Kim', [1]),\n",
      " ('Casie', [1]),\n",
      " ('Maryjo', [1]),\n",
      " ('Vivi', [1]),\n",
      " ('Constantine', [0]),\n",
      " ('Powell', [0]),\n",
      " ('Nealon', [0]),\n",
      " ('Ismail', [0]),\n",
      " ('Floria', [1]),\n",
      " ('Hartwell', [0]),\n",
      " ('Aveline', [1]),\n",
      " ('Robbie', [0]),\n",
      " ('Jon', [0]),\n",
      " ('Florida', [0]),\n",
      " ('Berenice', [1]),\n",
      " ('Kathe', [1]),\n",
      " ('Ainsley', [1]),\n",
      " ('Tyrus', [0]),\n",
      " ('Brit', [1]),\n",
      " ('Caresse', [1]),\n",
      " ('Gigi', [1]),\n",
      " ('Charlene', [1]),\n",
      " ('Dustin', [0]),\n",
      " ('Lolita', [1]),\n",
      " ('Nina', [1]),\n",
      " ('Maxine', [1]),\n",
      " ('Hadrian', [0]),\n",
      " ('Aube', [1]),\n",
      " ('Blanch', [1]),\n",
      " ('Frankie', [0]),\n",
      " ('Elric', [0]),\n",
      " ('Karolina', [1]),\n",
      " ('Susi', [1]),\n",
      " ('Susanna', [1]),\n",
      " ('Rodolfo', [1]),\n",
      " ('Myles', [0]),\n",
      " ('Carli', [1]),\n",
      " ('Faun', [1]),\n",
      " ('Gretta', [1]),\n",
      " ('Tracee', [1]),\n",
      " ('Rickard', [0]),\n",
      " ('Arianne', [1]),\n",
      " ('Dore', [1]),\n",
      " ('Flem', [1]),\n",
      " ('Hobart', [0]),\n",
      " ('Pearce', [0]),\n",
      " ('Heath', [0]),\n",
      " ('Bubba', [0]),\n",
      " ('Alysa', [1]),\n",
      " ('Murphy', [0]),\n",
      " ('Kevyn', [1]),\n",
      " ('Burton', [0]),\n",
      " ('Peg', [1]),\n",
      " ('Josefina', [1]),\n",
      " ('Griffith', [0]),\n",
      " ('Katrine', [1]),\n",
      " ('Ebba', [1]),\n",
      " ('Alston', [0]),\n",
      " ('Andrey', [0]),\n",
      " ('Cicely', [1]),\n",
      " ('Way', [0]),\n",
      " ('Shayne', [1]),\n",
      " ('Lynde', [0]),\n",
      " ('Benjamin', [0]),\n",
      " ('Veronika', [1]),\n",
      " ('Rosanna', [1]),\n",
      " ('Rubi', [1]),\n",
      " ('Sting', [1]),\n",
      " ('Gail', [1]),\n",
      " ('Shea', [1]),\n",
      " ('Lane', [1]),\n",
      " ('Angie', [1]),\n",
      " ('Chrissy', [1]),\n",
      " ('Rita', [1]),\n",
      " ('Rutger', [0]),\n",
      " ('Alonzo', [0]),\n",
      " ('Tim', [0]),\n",
      " ('Adah', [1]),\n",
      " ('Sheff', [0]),\n",
      " ('Herbie', [0]),\n",
      " ('Maurits', [0]),\n",
      " ('Trev', [0]),\n",
      " ('Hetty', [1]),\n",
      " ('Zoe', [1]),\n",
      " ('Wylie', [0]),\n",
      " ('Orrin', [0]),\n",
      " ('Buck', [0]),\n",
      " ('Orel', [1]),\n",
      " ('Laetitia', [1]),\n",
      " ('Nicky', [0]),\n",
      " ('Dionysus', [0]),\n",
      " ('Adolphe', [0]),\n",
      " ('Jesus', [0]),\n",
      " ('Cris', [1]),\n",
      " ('Sande', [0]),\n",
      " ('Piotr', [0]),\n",
      " ('Menard', [0]),\n",
      " ('Hester', [0]),\n",
      " ('Kenneth', [0]),\n",
      " ('Virgilio', [1]),\n",
      " ('Flynn', [0]),\n",
      " ('Doug', [0]),\n",
      " ('Rhett', [0]),\n",
      " ('Anni', [1]),\n",
      " ('Kayle', [1]),\n",
      " ('Istvan', [0]),\n",
      " ('Tarzan', [0]),\n",
      " ('Corby', [0]),\n",
      " ('Marlie', [1]),\n",
      " ('Scarface', [0]),\n",
      " ('Marylou', [1]),\n",
      " ('Meier', [0]),\n",
      " ('Bartel', [0]),\n",
      " ('Lazarus', [0]),\n",
      " ('Channa', [1]),\n",
      " ('Dory', [0]),\n",
      " ('Rik', [0]),\n",
      " ('Oona', [1]),\n",
      " ('Izzi', [1]),\n",
      " ('Dotti', [1]),\n",
      " ('Sasha', [1]),\n",
      " ('Gael', [1]),\n",
      " ('Muffin', [1]),\n",
      " ('Leela', [1]),\n",
      " ('Liam', [0]),\n",
      " ('Sheldon', [0]),\n",
      " ('Raf', [0]),\n",
      " ('Quent', [1]),\n",
      " ('Petr', [0]),\n",
      " ('Eldon', [0]),\n",
      " ('Domenico', [0]),\n",
      " ('Charlie', [0]),\n",
      " ('Charlotte', [0]),\n",
      " ('Aleck', [1]),\n",
      " ('Royce', [0]),\n",
      " ('Trenton', [0]),\n",
      " ('Mariska', [1]),\n",
      " ('Imogen', [1]),\n",
      " ('Wilhelmina', [1]),\n",
      " ('Wendell', [0]),\n",
      " ('Lucius', [0]),\n",
      " ('Tabor', [0]),\n",
      " ('Rosemarie', [1]),\n",
      " ('Blithe', [1]),\n",
      " ('Bucky', [0]),\n",
      " ('Maribel', [1]),\n",
      " ('Harlan', [0]),\n",
      " ('Andreas', [0]),\n",
      " ('Isobel', [1]),\n",
      " ('Melinda', [1]),\n",
      " ('Ibrahim', [0]),\n",
      " ('Tamara', [1]),\n",
      " ('Hanny', [1]),\n",
      " ('Louis', [0]),\n",
      " ('Sonny', [0]),\n",
      " ('Brett', [0]),\n",
      " ('Fanni', [1]),\n",
      " ('Mathilda', [1]),\n",
      " ('Cathrine', [1]),\n",
      " ('Zora', [1]),\n",
      " ('Helene', [1]),\n",
      " ('Ozzy', [0]),\n",
      " ('Atalanta', [1]),\n",
      " ('Winfield', [0]),\n",
      " ('Fleming', [0]),\n",
      " ('Clarita', [1]),\n",
      " ('Fulvia', [1]),\n",
      " ('Shawn', [0]),\n",
      " ('Berri', [1]),\n",
      " ('Ira', [0]),\n",
      " ('Woodie', [0]),\n",
      " ('Fanny', [1]),\n",
      " ('Gilli', [1]),\n",
      " ('Warren', [0]),\n",
      " ('Eunice', [1]),\n",
      " ('Jesse', [0]),\n",
      " ('Carolann', [1]),\n",
      " ('Harry', [0]),\n",
      " ('Lou', [1]),\n",
      " ('Bradley', [0]),\n",
      " ('Teddy', [1]),\n",
      " ('Cindy', [1]),\n",
      " ('Phil', [0]),\n",
      " ('Cybil', [1]),\n",
      " ('Uli', [1]),\n",
      " ('Janna', [1]),\n",
      " ('Rolf', [0]),\n",
      " ('Elyssa', [1]),\n",
      " ('Marve', [0]),\n",
      " ('Eileen', [1]),\n",
      " ('Kiersten', [1]),\n",
      " ('Hailee', [1]),\n",
      " ('Karol', [1]),\n",
      " ('Jillian', [1]),\n",
      " ('Felice', [1]),\n",
      " ('Vinnie', [0]),\n",
      " ('Matthieu', [0]),\n",
      " ('Donnie', [0]),\n",
      " ('Otha', [1]),\n",
      " ('Nari', [1]),\n",
      " ('Wright', [0]),\n",
      " ('Jere', [0]),\n",
      " ('Guy', [0]),\n",
      " ('Oriana', [1]),\n",
      " ('Oleg', [0]),\n",
      " ('Henrie', [0]),\n",
      " ('Robina', [1]),\n",
      " ('Reece', [1]),\n",
      " ('Daphne', [1]),\n",
      " ('Ezra', [0]),\n",
      " ('Delly', [1]),\n",
      " ('Stanton', [0]),\n",
      " ('Nitin', [1]),\n",
      " ('Fletch', [0]),\n",
      " ('Annelise', [1]),\n",
      " ('Anet', [1]),\n",
      " ('Reba', [1]),\n",
      " ('Verla', [1]),\n",
      " ('Jeannette', [1]),\n",
      " ('Edmond', [0]),\n",
      " ('Melvyn', [0]),\n",
      " ('Burgess', [0]),\n",
      " ('Neda', [1]),\n",
      " ('Kurtis', [1]),\n",
      " ('Julee', [1]),\n",
      " ('Rollo', [0]),\n",
      " ('Vivian', [1]),\n",
      " ('Rufus', [0]),\n",
      " ('Sean', [0]),\n",
      " ('Alleen', [1]),\n",
      " ('Abbe', [0]),\n",
      " ('Coretta', [0]),\n",
      " ('Rodrick', [1]),\n",
      " ('Koral', [1]),\n",
      " ('Howie', [0]),\n",
      " ('Tore', [1]),\n",
      " ('Kerri', [1]),\n",
      " ('Leyla', [1]),\n",
      " ('Rebecca', [1]),\n",
      " ('Clarissa', [1]),\n",
      " ('Leslie', [0]),\n",
      " ('Flor', [1]),\n",
      " ('Mauricio', [0]),\n",
      " ('Virgil', [0]),\n",
      " ('Carlee', [1]),\n",
      " ('Keely', [1]),\n",
      " ('Flory', [1]),\n",
      " ('Binny', [1]),\n",
      " ('Heidi', [1]),\n",
      " ('Ossie', [0]),\n",
      " ('Kristopher', [0]),\n",
      " ('Wiley', [0]),\n",
      " ('Gil', [0]),\n",
      " ('Godiva', [1]),\n",
      " ('Catriona', [1]),\n",
      " ('Freida', [1]),\n",
      " ('Andree', [1]),\n",
      " ('Niki', [1]),\n",
      " ('Lane', [1]),\n",
      " ('Cristal', [1]),\n",
      " ('Tobe', [1]),\n",
      " ('Elmira', [0]),\n",
      " ('Mercy', [1]),\n",
      " ('Haydon', [1]),\n",
      " ('Klaus', [0]),\n",
      " ('Brook', [0]),\n",
      " ('Penn', [0]),\n",
      " ('Abby', [1]),\n",
      " ('Lusa', [1]),\n",
      " ('Glynis', [1]),\n",
      " ('Georges', [0]),\n",
      " ('Griffin', [0]),\n",
      " ('Sylvia', [1]),\n",
      " ('Stella', [1]),\n",
      " ('Buffy', [1]),\n",
      " ('Rustin', [0]),\n",
      " ('Nara', [1]),\n",
      " ('Cathryn', [1]),\n",
      " ('Sterne', [0]),\n",
      " ('Brittan', [1]),\n",
      " ('Rodge', [1]),\n",
      " ('Bernd', [0]),\n",
      " ('Robin', [0]),\n",
      " ('Clive', [0]),\n",
      " ('Caryl', [1]),\n",
      " ('Editha', [1]),\n",
      " ('Heinz', [0]),\n",
      " ('Adolph', [0]),\n",
      " ('Corky', [0]),\n",
      " ('Markos', [0]),\n",
      " ('Dusty', [1]),\n",
      " ('Elly', [1]),\n",
      " ('Jazmin', [1]),\n",
      " ('Darryl', [0]),\n",
      " ('Maris', [1]),\n",
      " ('Georgie', [1]),\n",
      " ('Annetta', [1]),\n",
      " ('Waleed', [0]),\n",
      " ('Lise', [1]),\n",
      " ('Brier', [0]),\n",
      " ('Antoni', [0]),\n",
      " ('Deb', [1]),\n",
      " ('Jule', [1]),\n",
      " ('Kyle', [0]),\n",
      " ('Lancelot', [0]),\n",
      " ('Sig', [0]),\n",
      " ('Anton', [0]),\n",
      " ('Horatio', [0]),\n",
      " ('Felicia', [1]),\n",
      " ('Mella', [1]),\n",
      " ('Ariana', [1]),\n",
      " ('Nikita', [1]),\n",
      " ('Jeniffer', [1]),\n",
      " ('Randa', [1]),\n",
      " ('Erhard', [1]),\n",
      " ('Fons', [1]),\n",
      " ('Gale', [1]),\n",
      " ('Querida', [1]),\n",
      " ('Alana', [1]),\n",
      " ('Helmuth', [0]),\n",
      " ('Dodi', [1]),\n",
      " ('Lyle', [0]),\n",
      " ('Hari', [1]),\n",
      " ('Hamil', [1]),\n",
      " ('Scottie', [0]),\n",
      " ('Swen', [1]),\n",
      " ('Cecily', [1]),\n",
      " ('Ilsa', [1]),\n",
      " ('Michal', [0]),\n",
      " ('Lothar', [0]),\n",
      " ('Ernesto', [0]),\n",
      " ('Trixy', [1]),\n",
      " ('Adolfo', [0]),\n",
      " ('Lisa', [1]),\n",
      " ('Jamie', [0]),\n",
      " ('Hakim', [0]),\n",
      " ('Jodie', [1]),\n",
      " ('Adlai', [0]),\n",
      " ('Levi', [0]),\n",
      " ('Lauren', [1]),\n",
      " ('Roth', [0]),\n",
      " ('Cathie', [1]),\n",
      " ('Julianna', [1]),\n",
      " ('Russell', [0]),\n",
      " ('Sioux', [0]),\n",
      " ('Forester', [0]),\n",
      " ('Meryl', [1]),\n",
      " ('Opal', [1]),\n",
      " ('Layton', [0]),\n",
      " ('Emlyn', [0]),\n",
      " ('Philip', [0]),\n",
      " ('Tish', [1]),\n",
      " ('Tony', [0]),\n",
      " ('Reina', [1]),\n",
      " ('Adore', [1]),\n",
      " ('Adrienne', [1]),\n",
      " ('Han', [0]),\n",
      " ('Wolfie', [0]),\n",
      " ('Burke', [0]),\n",
      " ('Gerald', [0]),\n",
      " ('Bud', [0]),\n",
      " ('Roland', [0]),\n",
      " ('Mark', [0]),\n",
      " ('Jo-Anne', [1]),\n",
      " ('Augustin', [0]),\n",
      " ('John-David', [0]),\n",
      " ('Neville', [0]),\n",
      " ('Gillan', [1]),\n",
      " ('Doti', [1]),\n",
      " ('Pooh', [1]),\n",
      " ('Davidson', [0]),\n",
      " ('Claudia', [1]),\n",
      " ('Elias', [0]),\n",
      " ('Neddy', [1]),\n",
      " ('Herold', [0]),\n",
      " ('Abigail', [1]),\n",
      " ('Blair', [0]),\n",
      " ('Wolf', [0]),\n",
      " ('Roxie', [1]),\n",
      " ('Charo', [1]),\n",
      " ('Millie', [1]),\n",
      " ('Ursula', [1]),\n",
      " ('Cody', [0]),\n",
      " ('Kasey', [1]),\n",
      " ('Quinlan', [1]),\n",
      " ('Marius', [0]),\n",
      " ('Sharla', [1]),\n",
      " ('Bennie', [0]),\n",
      " ('Dyan', [1]),\n",
      " ('Tally', [0]),\n",
      " ('Lilla', [1]),\n",
      " ('Gabrielle', [1]),\n",
      " ('La', [1]),\n",
      " ('Bobby', [0]),\n",
      " ('Hannibal', [0]),\n",
      " ('Niven', [0]),\n",
      " ('William', [0]),\n",
      " ('Flossie', [1]),\n",
      " ('Pat', [0]),\n",
      " ('Cary', [0]),\n",
      " ('Sherrie', [1]),\n",
      " ('Marcelle', [1]),\n",
      " ('Mitchell', [0]),\n",
      " ('Adele', [1]),\n",
      " ('Shilpa', [1]),\n",
      " ('Martha', [1]),\n",
      " ('Ricky', [0]),\n",
      " ('Averill', [0]),\n",
      " ('Charlton', [0]),\n",
      " ('Laurie', [1]),\n",
      " ('Josey', [0]),\n",
      " ('Andrzej', [0]),\n",
      " ('Dani', [1]),\n",
      " ('Susie', [1]),\n",
      " ('Sallie', [1]),\n",
      " ('Trent', [0]),\n",
      " ('Stafford', [0]),\n",
      " ('Burnaby', [0]),\n",
      " ('Shira', [1]),\n",
      " ('Abby', [1]),\n",
      " ('Andria', [1]),\n",
      " ('Gerri', [1]),\n",
      " ('Dean', [0]),\n",
      " ('Tull', [0]),\n",
      " ('Madison', [0]),\n",
      " ('Hugh', [0]),\n",
      " ('Torrey', [0]),\n",
      " ('Calvin', [0]),\n",
      " ('Trix', [0]),\n",
      " ('Randy', [0]),\n",
      " ('Benni', [0]),\n",
      " ('Celine', [1]),\n",
      " ('Adrian', [0]),\n",
      " ('Brandi', [1]),\n",
      " ('Nico', [1]),\n",
      " ('Dove', [1]),\n",
      " ('Ada', [1]),\n",
      " ('Carla', [1]),\n",
      " ('Fred', [0]),\n",
      " ('Eliot', [0]),\n",
      " ('Giselle', [1]),\n",
      " ('Hatti', [1]),\n",
      " ('Vivienne', [1]),\n",
      " ('Jinny', [1]),\n",
      " ('Salmon', [1]),\n",
      " ('Vena', [1]),\n",
      " ('Puff', [1]),\n",
      " ('Margit', [1]),\n",
      " ('Nancie', [1]),\n",
      " ('Torrance', [0]),\n",
      " ('Stewart', [0]),\n",
      " ('Salomon', [0]),\n",
      " ('Lianna', [1]),\n",
      " ('Astrix', [0]),\n",
      " ('Lena', [1]),\n",
      " ('Kate', [1]),\n",
      " ('Roscoe', [0]),\n",
      " ('Stanwood', [0]),\n",
      " ('Carlo', [0]),\n",
      " ('Colbert', [0]),\n",
      " ('Ric', [0]),\n",
      " ('Gallagher', [0]),\n",
      " ('Corinne', [1]),\n",
      " ('Miguel', [0]),\n",
      " ('Ed', [0]),\n",
      " ('Durand', [0]),\n",
      " ('Ricki', [1]),\n",
      " ('Eda', [1]),\n",
      " ('Dell', [0]),\n",
      " ('Paula', [1]),\n",
      " ('Forrester', [0]),\n",
      " ('Kara-Lynn', [1]),\n",
      " ('Stacy', [1]),\n",
      " ('Woodman', [1]),\n",
      " ('Igor', [0]),\n",
      " ('Ashlie', [1]),\n",
      " ('Mellie', [1]),\n",
      " ('Dana', [0]),\n",
      " ('Bettie', [1]),\n",
      " ('Fulton', [0]),\n",
      " ('Kalle', [0]),\n",
      " ('Chas', [0]),\n",
      " ('Grazia', [1]),\n",
      " ('Coleen', [1]),\n",
      " ('Sib', [1]),\n",
      " ('Diane', [1]),\n",
      " ('Doyle', [0]),\n",
      " ('Misty', [1]),\n",
      " ('Shellie', [1]),\n",
      " ('Theresa', [1]),\n",
      " ('Abbey', [0]),\n",
      " ('Julieta', [1]),\n",
      " ('Roberto', [0]),\n",
      " ('Anissa', [1]),\n",
      " ('Corry', [0]),\n",
      " ('Tremaine', [1]),\n",
      " ('Twyla', [1]),\n",
      " ('Connolly', [0]),\n",
      " ('Buster', [0]),\n",
      " ('Kirstin', [1]),\n",
      " ('Apollo', [0]),\n",
      " ('Abelard', [0]),\n",
      " ('Dahlia', [1]),\n",
      " ('Nikki', [1]),\n",
      " ('Giuseppe', [0]),\n",
      " ('Martyn', [0]),\n",
      " ('Nadya', [1]),\n",
      " ('Dian', [1]),\n",
      " ('Perceval', [0]),\n",
      " ('Mordecai', [0]),\n",
      " ('Angele', [1]),\n",
      " ('Katharine', [1]),\n",
      " ('Carmon', [1]),\n",
      " ('Brigit', [1]),\n",
      " ('Harris', [0]),\n",
      " ('Betta', [1]),\n",
      " ('Chaim', [0]),\n",
      " ('Graig', [0]),\n",
      " ('Felicity', [1]),\n",
      " ('Hermy', [0]),\n",
      " ('Libby', [1]),\n",
      " ('Saunders', [0]),\n",
      " ('Baillie', [1]),\n",
      " ('Joanne', [1]),\n",
      " ('Evy', [1]),\n",
      " ('Courtney', [1]),\n",
      " ('Dorian', [0]),\n",
      " ('Frederik', [0]),\n",
      " ('Tami', [1]),\n",
      " ('Danny', [0]),\n",
      " ('Judith', [1]),\n",
      " ('Pincus', [0]),\n",
      " ('Ambrosius', [1]),\n",
      " ('Grover', [0]),\n",
      " ('Bernadine', [1]),\n",
      " ('Pier', [0]),\n",
      " ('Harvey', [0]),\n",
      " ('Lacey', [1]),\n",
      " ('Bill', [0]),\n",
      " ('Bernie', [0]),\n",
      " ('Roderick', [1]),\n",
      " ('Cliff', [0]),\n",
      " ('Lazaro', [1]),\n",
      " ('Nancy', [0]),\n",
      " ('Nena', [1]),\n",
      " ('Marty', [0]),\n",
      " ('Jedediah', [0]),\n",
      " ('Perla', [1]),\n",
      " ('Evonne', [1]),\n",
      " ('Tonya', [1]),\n",
      " ('Tarrant', [0]),\n",
      " ('Pandora', [1]),\n",
      " ('Larry', [0]),\n",
      " ('Madeline', [1]),\n",
      " ('Mallory', [1]),\n",
      " ('Magnum', [0]),\n",
      " ('Maddie', [1]),\n",
      " ('Mel', [1]),\n",
      " ('Alfredo', [0]),\n",
      " ('Cathy', [1]),\n",
      " ('Lynn', [1]),\n",
      " ('Guillaume', [0]),\n",
      " ('Kellie', [1]),\n",
      " ('Roman', [0]),\n",
      " ('Mab', [1]),\n",
      " ('Hudson', [0]),\n",
      " ('Bryon', [1]),\n",
      " ('Case', [0]),\n",
      " ('Zerk', [1]),\n",
      " ('Ines', [1]),\n",
      " ('Laurence', [0]),\n",
      " ('Rickie', [0]),\n",
      " ('Marv', [0]),\n",
      " ('Mada', [1]),\n",
      " ('Fan', [0]),\n",
      " ('Jacinta', [1]),\n",
      " ('Carine', [1]),\n",
      " ('Geo', [0]),\n",
      " ('Hebert', [0]),\n",
      " ('Anna-Maria', [1]),\n",
      " ('Leonardo', [0]),\n",
      " ('Elie', [0]),\n",
      " ('Alberto', [0]),\n",
      " ('Calhoun', [0]),\n",
      " ('Mary', [1]),\n",
      " ('Bertram', [0]),\n",
      " ('Loreen', [1]),\n",
      " ('Netty', [1]),\n",
      " ('Tova', [1]),\n",
      " ('Ree', [1]),\n",
      " ('Quincy', [0]),\n",
      " ('Tina', [1]),\n",
      " ('Minerva', [1]),\n",
      " ('Otto', [0]),\n",
      " ('Pepi', [1]),\n",
      " ('Verge', [1]),\n",
      " ('Carie', [1]),\n",
      " ('Johan', [0]),\n",
      " ('Brewer', [0]),\n",
      " ('Stinky', [1]),\n",
      " ('Carissa', [1]),\n",
      " ('Lenard', [0]),\n",
      " ('Kimmy', [1]),\n",
      " ('Kelly', [1]),\n",
      " ('Henriette', [1]),\n",
      " ('Carol-Jean', [1]),\n",
      " ('Dawson', [0]),\n",
      " ('Joni', [1]),\n",
      " ('Anthea', [1]),\n",
      " ('Kit', [0]),\n",
      " ('Adrianne', [1]),\n",
      " ('Duane', [0]),\n",
      " ('Gustavus', [0]),\n",
      " ('Reynold', [1]),\n",
      " ('Maggi', [1]),\n",
      " ('Sandy', [1]),\n",
      " ('Taffy', [1]),\n",
      " ('Georgia', [0]),\n",
      " ('Augusta', [0]),\n",
      " ('Marjorie', [1]),\n",
      " ('Felice', [1]),\n",
      " ('Monty', [0]),\n",
      " ('Jorge', [0]),\n",
      " ('Frederick', [0]),\n",
      " ('Wayne', [0]),\n",
      " ('George', [0]),\n",
      " ('Harrold', [0]),\n",
      " ('Aylmer', [1]),\n",
      " ('Rafael', [0]),\n",
      " ('Pansy', [1]),\n",
      " ('Hugo', [0]),\n",
      " ('Tobey', [0]),\n",
      " ('Gertie', [1]),\n",
      " ('Nessie', [1]),\n",
      " ('Terrence', [0]),\n",
      " ('Marietta', [0]),\n",
      " ('Ariadne', [1]),\n",
      " ('Jami', [1]),\n",
      " ('Pierson', [0]),\n",
      " ('Morrie', [0]),\n",
      " ('Anna-Diane', [1]),\n",
      " ('Maudie', [1]),\n",
      " ('Nessy', [1]),\n",
      " ('Grete', [1]),\n",
      " ('Archibald', [0]),\n",
      " ('Mario', [0]),\n",
      " ('Amata', [1]),\n",
      " ('Merril', [0]),\n",
      " ('Gracie', [1]),\n",
      " ('Prescott', [0]),\n",
      " ('Evette', [1]),\n",
      " ('Kristina', [1]),\n",
      " ('Janis', [1]),\n",
      " ('Nance', [0]),\n",
      " ('Geraldine', [1]),\n",
      " ('Flossy', [1]),\n",
      " ('Faye', [1]),\n",
      " ('Gera', [1]),\n",
      " ('Edouard', [0]),\n",
      " ('Germaine', [1]),\n",
      " ('Cori', [1]),\n",
      " ('Corny', [0]),\n",
      " ('Saxe', [1]),\n",
      " ('Odysseus', [0]),\n",
      " ('Francisco', [0]),\n",
      " ('Arvin', [0]),\n",
      " ('Viki', [1]),\n",
      " ('Augustus', [0]),\n",
      " ('Gus', [0]),\n",
      " ('Klara', [1]),\n",
      " ('Malka', [1]),\n",
      " ('Miles', [0]),\n",
      " ('Selle', [1]),\n",
      " ('Lissie', [1]),\n",
      " ('Daryl', [0]),\n",
      " ('Ester', [1]),\n",
      " ('Andie', [1]),\n",
      " ('Matilda', [1]),\n",
      " ('Rene', [1]),\n",
      " ('Ferd', [0]),\n",
      " ('Micheline', [1]),\n",
      " ('Partha', [1]),\n",
      " ('Karie', [1]),\n",
      " ('Austin', [0]),\n",
      " ('Christa', [1]),\n",
      " ('Marcy', [0]),\n",
      " ('Duke', [0]),\n",
      " ('Pru', [1]),\n",
      " ('Larissa', [1]),\n",
      " ('Lem', [0]),\n",
      " ('Regina', [1]),\n",
      " ('Easton', [0]),\n",
      " ('Hank', [0]),\n",
      " ('Nani', [1]),\n",
      " ('Etta', [1]),\n",
      " ('Janelle', [1]),\n",
      " ('Lula', [1]),\n",
      " ('Gaven', [0]),\n",
      " ('Dru', [1]),\n",
      " ('Birgit', [1]),\n",
      " ('Franz', [0]),\n",
      " ('Jonathon', [0]),\n",
      " ('Cristin', [1]),\n",
      " ('Frederico', [1]),\n",
      " ('Marcie', [1]),\n",
      " ('Alaa', [0]),\n",
      " ('Trace', [0]),\n",
      " ('Chrissy', [1]),\n",
      " ('Chase', [0]),\n",
      " ('Nahum', [1]),\n",
      " ('Jeanie', [1]),\n",
      " ('Carter', [0]),\n",
      " ('Evita', [1]),\n",
      " ('Rodd', [0]),\n",
      " ('Alister', [0]),\n",
      " ('Ronda', [1]),\n",
      " ('Moore', [0]),\n",
      " ('Hamel', [0]),\n",
      " ('Torrence', [0]),\n",
      " ('Tamar', [1]),\n",
      " ('Wojciech', [1]),\n",
      " ('Isa', [0]),\n",
      " ('Jean', [1]),\n",
      " ('Lesley', [1]),\n",
      " ('Torr', [1]),\n",
      " ('Burt', [0]),\n",
      " ('Kaspar', [0]),\n",
      " ('Mirabella', [1]),\n",
      " ('Ewart', [0]),\n",
      " ('Colette', [1]),\n",
      " ('Gilberto', [1]),\n",
      " ('Town', [0]),\n",
      " ('Danna', [1]),\n",
      " ('Dela', [1]),\n",
      " ('Harcourt', [0]),\n",
      " ('Wake', [1]),\n",
      " ('Olympia', [0]),\n",
      " ('Shirley', [1]),\n",
      " ('Alecia', [1]),\n",
      " ('Betty', [1]),\n",
      " ('Desiree', [1]),\n",
      " ('Claude', [0]),\n",
      " ('Johny', [0]),\n",
      " ('Thea', [1]),\n",
      " ('Leonhard', [0]),\n",
      " ('Shepherd', [0]),\n",
      " ('Aila', [1]),\n",
      " ('Kerstin', [1]),\n",
      " ('Johann', [0]),\n",
      " ('Nealy', [1]),\n",
      " ('Hercules', [0]),\n",
      " ('Juergen', [1]),\n",
      " ('Jake', [0]),\n",
      " ('Bronson', [0]),\n",
      " ('Carmine', [1]),\n",
      " ('Blythe', [1]),\n",
      " ('Sayre', [0]),\n",
      " ('Wallis', [0]),\n",
      " ('Clark', [0]),\n",
      " ('Quintin', [0]),\n",
      " ('Eduard', [0]),\n",
      " ('Georgy', [1]),\n",
      " ('Barbe', [1]),\n",
      " ('Nate', [0]),\n",
      " ('Dudley', [0]),\n",
      " ('Rayna', [1]),\n",
      " ('Lin', [1]),\n",
      " ('Sharron', [1]),\n",
      " ('Aurelie', [1]),\n",
      " ('Justis', [1]),\n",
      " ('Marnie', [1]),\n",
      " ('Wallace', [0]),\n",
      " ('Carleen', [1]),\n",
      " ('Eli', [0]),\n",
      " ('Blare', [1]),\n",
      " ('Malcolm', [0]),\n",
      " ('Mireille', [1]),\n",
      " ('Bridgett', [1]),\n",
      " ('Gray', [0]),\n",
      " ('Patel', [0]),\n",
      " ('Ebony', [1]),\n",
      " ('Brice', [0]),\n",
      " ('Mahesh', [0]),\n",
      " ('Janus', [0]),\n",
      " ('Remy', [1]),\n",
      " ('Mabel', [1]),\n",
      " ('Gill', [0]),\n",
      " ('Andrea', [1]),\n",
      " ('Raine', [1]),\n",
      " ('Piggy', [1]),\n",
      " ('Evie', [1]),\n",
      " ('Laureen', [1]),\n",
      " ('Rafa', [0]),\n",
      " ('Angy', [1]),\n",
      " ('Beck', [0]),\n",
      " ('Peter', [0]),\n",
      " ('Redford', [0]),\n",
      " ('Dmitri', [0]),\n",
      " ('Saxon', [0]),\n",
      " ('Giordano', [0]),\n",
      " ('Vin', [0]),\n",
      " ('Meade', [0]),\n",
      " ('Bob', [0]),\n",
      " ('Stephie', [1]),\n",
      " ('Mattias', [0]),\n",
      " ('Winona', [0]),\n",
      " ('Ara', [1]),\n",
      " ('Camel', [1]),\n",
      " ('Nevil', [0]),\n",
      " ('Verena', [1]),\n",
      " ('Arnie', [0]),\n",
      " ('Gerry', [0]),\n",
      " ('Gerhard', [0]),\n",
      " ('Caprice', [1]),\n",
      " ('Bell', [0]),\n",
      " ('Addis', [0]),\n",
      " ('Giorgio', [0]),\n",
      " ('Godfrey', [0]),\n",
      " ('Herby', [1]),\n",
      " ('Elli', [1]),\n",
      " ('Dayna', [1]),\n",
      " ('Esta', [1]),\n",
      " ('Gardiner', [0]),\n",
      " ('Brianna', [1]),\n",
      " ('Athena', [1]),\n",
      " ('Sterling', [0]),\n",
      " ('Jethro', [0]),\n",
      " ('Vicki', [1]),\n",
      " ('Mahmoud', [0]),\n",
      " ('Avraham', [0]),\n",
      " ('Gypsy', [1]),\n",
      " ('Cindi', [1]),\n",
      " ('Carolyne', [1]),\n",
      " ('Nicky', [0]),\n",
      " ('Anna-Diana', [1]),\n",
      " ('Ray', [0]),\n",
      " ('Barn', [0]),\n",
      " ('Raoul', [0]),\n",
      " ('Violetta', [1]),\n",
      " ('Shanna', [1]),\n",
      " ('Audi', [0]),\n",
      " ('Dollie', [1]),\n",
      " ('Robinette', [0]),\n",
      " ('Fredi', [1]),\n",
      " ('Reynard', [0]),\n",
      " ('Lotte', [1]),\n",
      " ('Mirella', [1]),\n",
      " ('Mitch', [0]),\n",
      " ('Ellie', [1]),\n",
      " ('Elihu', [1]),\n",
      " ('King', [0]),\n",
      " ('Ford', [0]),\n",
      " ('Wilburn', [0]),\n",
      " ('Valentin', [0]),\n",
      " ('Ripley', [0]),\n",
      " ('Darrin', [0]),\n",
      " ('Barthel', [1]),\n",
      " ('Lawson', [0]),\n",
      " ('Dannie', [1]),\n",
      " ('Ronnie', [0]),\n",
      " ('Shayla', [1]),\n",
      " ('Hollie', [1]),\n",
      " ('Cassi', [1]),\n",
      " ('Trixie', [1]),\n",
      " ('Morgan', [0]),\n",
      " ('Jemima', [1]),\n",
      " ('Chloe', [1]),\n",
      " ('Constance', [1]),\n",
      " ('Nova', [1]),\n",
      " ('Wallie', [1]),\n",
      " ('Dorey', [0]),\n",
      " ('Iain', [0]),\n",
      " ('Orville', [0]),\n",
      " ('Dawn', [1]),\n",
      " ('Austin', [0]),\n",
      " ('Zahara', [1]),\n",
      " ('Gibb', [0]),\n",
      " ('Brittany', [1]),\n",
      " ('Christoph', [0]),\n",
      " ('Dita', [1]),\n",
      " ('Orlando', [0]),\n",
      " ('Beckie', [1]),\n",
      " ('Lucy', [1]),\n",
      " ('Lyndsey', [1]),\n",
      " ('Steve', [0]),\n",
      " ('Stern', [0]),\n",
      " ('Garland', [1]),\n",
      " ('Marlene', [1]),\n",
      " ('Jennette', [1]),\n",
      " ('Fritz', [0]),\n",
      " ('Vite', [1]),\n",
      " ('Ruby', [1]),\n",
      " ('Gabe', [0]),\n",
      " ('Inge', [1]),\n",
      " ('Philly', [0]),\n",
      " ('Clancy', [0]),\n",
      " ('Tory', [1]),\n",
      " ('Loretta', [1]),\n",
      " ('Lorry', [1]),\n",
      " ('Dione', [1]),\n",
      " ('Cassie', [1]),\n",
      " ('Barnaby', [0]),\n",
      " ('Ronnie', [0]),\n",
      " ('Graham', [0]),\n",
      " ('Carroll', [0]),\n",
      " ('Winslow', [0]),\n",
      " ('Nathaniel', [0]),\n",
      " ('Clarinda', [1]),\n",
      " ('Ann-Marie', [1]),\n",
      " ('Bela', [1]),\n",
      " ('Tiffani', [1]),\n",
      " ('Costa', [0]),\n",
      " ('Shalom', [0]),\n",
      " ('Anabel', [1]),\n",
      " ('Manda', [1]),\n",
      " ('Northrop', [0]),\n",
      " ('Ericka', [1]),\n",
      " ('Meghan', [1]),\n",
      " ('Salli', [1]),\n",
      " ('Raymund', [1]),\n",
      " ('Lucie', [1]),\n",
      " ('Grier', [1]),\n",
      " ('Sullivan', [0]),\n",
      " ('Pamela', [1]),\n",
      " ('Karim', [0]),\n",
      " ('Lynnette', [1]),\n",
      " ('Adair', [0]),\n",
      " ('Shani', [1]),\n",
      " ('Shir', [1]),\n",
      " ('Red', [1]),\n",
      " ('Leighton', [1]),\n",
      " ('Matti', [1]),\n",
      " ('Kary', [1]),\n",
      " ('Nola', [1]),\n",
      " ('Cami', [1]),\n",
      " ('Della', [1]),\n",
      " ('Harmony', [1]),\n",
      " ('Denis', [0]),\n",
      " ('Foster', [1]),\n",
      " ('Miran', [1]),\n",
      " ('Gretchen', [1]),\n",
      " ('Jayne', [1]),\n",
      " ('Harley', [0]),\n",
      " ('Davis', [0]),\n",
      " ('Ruth', [0]),\n",
      " ('Lindsy', [1]),\n",
      " ('Blondy', [1]),\n",
      " ('Bertha', [1]),\n",
      " ('Lambert', [0]),\n",
      " ('Marion', [0]),\n",
      " ('Zachery', [0]),\n",
      " ('Sherri', [1]),\n",
      " ('Llewellyn', [0]),\n",
      " ('Tre', [1]),\n",
      " ('Suzan', [1]),\n",
      " ('Avis', [1]),\n",
      " ('Bobbi', [1]),\n",
      " ('Jens', [0]),\n",
      " ('Sofia', [1]),\n",
      " ('Mela', [1]),\n",
      " ('Carolee', [1]),\n",
      " ('Hestia', [1]),\n",
      " ('Toddy', [1]),\n",
      " ('Glory', [0]),\n",
      " ('Jenna', [1]),\n",
      " ('Chauncey', [0]),\n",
      " ('Gabriela', [1]),\n",
      " ('Micah', [0]),\n",
      " ('Traci', [1]),\n",
      " ('Milo', [0]),\n",
      " ('Timmy', [0]),\n",
      " ('Lamont', [0]),\n",
      " ('Regen', [0]),\n",
      " ('Joslyn', [1]),\n",
      " ('Elyn', [1]),\n",
      " ('Tommi', [1]),\n",
      " ('Simmonds', [0]),\n",
      " ('Lainey', [1]),\n",
      " ('Knox', [0]),\n",
      " ('Worth', [0]),\n",
      " ('Salvatore', [0]),\n",
      " ('Jerald', [0]),\n",
      " ('Bonny', [1]),\n",
      " ('Matty', [0]),\n",
      " ('Natasha', [1]),\n",
      " ('Rina', [1]),\n",
      " ('Goddard', [0]),\n",
      " ('Vaughn', [0]),\n",
      " ('Wash', [1]),\n",
      " ('Aliza', [1]),\n",
      " ('Dougie', [0]),\n",
      " ('Jordan', [0]),\n",
      " ('Edith', [1]),\n",
      " ('Jodi', [1]),\n",
      " ('Hamilton', [0]),\n",
      " ('Zena', [1]),\n",
      " ('Judi', [1]),\n",
      " ('Welch', [0]),\n",
      " ('Lucille', [1]),\n",
      " ('Dorothea', [1]),\n",
      " ('Jean-Francois', [0]),\n",
      " ('Daisy', [1]),\n",
      " ('Josie', [1]),\n",
      " ('Lefty', [0]),\n",
      " ('Timi', [1]),\n",
      " ('Ahmad', [0]),\n",
      " ('Toby', [0]),\n",
      " ('Halli', [1]),\n",
      " ('Victoria', [1]),\n",
      " ('Brady', [0]),\n",
      " ('Ravi', [0])]\n"
     ]
    }
   ],
   "source": [
    "predictions = []\n",
    "\n",
    "for x_batch, _ in val_dataloader:\n",
    "    p_batch = infer_batch(f, x_batch, device).cpu().numpy().tolist()\n",
    "    predictions.extend(p_batch)\n",
    "    \n",
    "from pprint import pprint\n",
    "pprint(list(zip(names_val, predictions)))"
   ]
  },
  {
   "cell_type": "markdown",
   "metadata": {},
   "source": [
    "Very convincing! What are these word vectors and how are they helping our network predict baby genders?  🤔\n",
    "\n",
    "Do the first assignment and find out!"
   ]
  },
  {
   "cell_type": "markdown",
   "metadata": {},
   "source": [
    "---"
   ]
  }
 ],
 "metadata": {
  "kernelspec": {
   "display_name": "Python 3",
   "language": "python",
   "name": "python3"
  },
  "language_info": {
   "codemirror_mode": {
    "name": "ipython",
    "version": 3
   },
   "file_extension": ".py",
   "mimetype": "text/x-python",
   "name": "python",
   "nbconvert_exporter": "python",
   "pygments_lexer": "ipython3",
   "version": "3.6.8"
  }
 },
 "nbformat": 4,
 "nbformat_minor": 2
}
